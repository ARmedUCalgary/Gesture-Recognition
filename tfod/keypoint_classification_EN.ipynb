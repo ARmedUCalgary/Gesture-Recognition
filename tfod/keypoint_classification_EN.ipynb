{
  "cells": [
    {
      "cell_type": "code",
      "execution_count": 1,
      "metadata": {
        "id": "igMyGnjE9hEp"
      },
      "outputs": [
        {
          "name": "stdout",
          "output_type": "stream",
          "text": [
            "WARNING:tensorflow:From c:\\Users\\Aadi\\OneDrive\\Desktop\\TFODCourse\\tfod\\Lib\\site-packages\\keras\\src\\losses.py:2976: The name tf.losses.sparse_softmax_cross_entropy is deprecated. Please use tf.compat.v1.losses.sparse_softmax_cross_entropy instead.\n",
            "\n"
          ]
        }
      ],
      "source": [
        "import csv\n",
        "\n",
        "import numpy as np\n",
        "import tensorflow as tf\n",
        "from sklearn.model_selection import train_test_split\n",
        "\n",
        "RANDOM_SEED = 42"
      ]
    },
    {
      "cell_type": "markdown",
      "metadata": {
        "id": "t2HDvhIu9hEr"
      },
      "source": [
        "# Specify each path"
      ]
    },
    {
      "cell_type": "code",
      "execution_count": 2,
      "metadata": {
        "id": "9NvZP2Zn9hEy"
      },
      "outputs": [],
      "source": [
        "dataset = 'model/keypoint_classifier/keypoint.csv'\n",
        "model_save_path = 'model/keypoint_classifier/keypoint_classifier.hdf5'\n",
        "tflite_save_path = 'model/keypoint_classifier/keypoint_classifier.tflite'"
      ]
    },
    {
      "cell_type": "markdown",
      "metadata": {
        "id": "s5oMH7x19hEz"
      },
      "source": [
        "# Set number of classes"
      ]
    },
    {
      "cell_type": "code",
      "execution_count": 3,
      "metadata": {
        "id": "du4kodXL9hEz"
      },
      "outputs": [],
      "source": [
        "NUM_CLASSES = 7"
      ]
    },
    {
      "cell_type": "markdown",
      "metadata": {
        "id": "XjnL0uso9hEz"
      },
      "source": [
        "# Dataset reading"
      ]
    },
    {
      "cell_type": "code",
      "execution_count": 4,
      "metadata": {
        "id": "QT5ZqtEz9hE0"
      },
      "outputs": [],
      "source": [
        "X_dataset = np.loadtxt(dataset, delimiter=',', dtype='float32', usecols=list(range(1, (21 * 2) + 1)))"
      ]
    },
    {
      "cell_type": "code",
      "execution_count": 5,
      "metadata": {
        "id": "QmoKFsp49hE0"
      },
      "outputs": [],
      "source": [
        "y_dataset = np.loadtxt(dataset, delimiter=',', dtype='int32', usecols=(0))"
      ]
    },
    {
      "cell_type": "code",
      "execution_count": 6,
      "metadata": {
        "id": "xQU7JTZ_9hE0"
      },
      "outputs": [],
      "source": [
        "X_train, X_test, y_train, y_test = train_test_split(X_dataset, y_dataset, train_size=0.75, random_state=RANDOM_SEED)"
      ]
    },
    {
      "cell_type": "markdown",
      "metadata": {
        "id": "mxK_lETT9hE0"
      },
      "source": [
        "# Model building"
      ]
    },
    {
      "cell_type": "code",
      "execution_count": 7,
      "metadata": {
        "id": "vHBmUf1t9hE1"
      },
      "outputs": [
        {
          "name": "stdout",
          "output_type": "stream",
          "text": [
            "WARNING:tensorflow:From c:\\Users\\Aadi\\OneDrive\\Desktop\\TFODCourse\\tfod\\Lib\\site-packages\\keras\\src\\backend.py:1398: The name tf.executing_eagerly_outside_functions is deprecated. Please use tf.compat.v1.executing_eagerly_outside_functions instead.\n",
            "\n"
          ]
        }
      ],
      "source": [
        "model = tf.keras.models.Sequential([\n",
        "    tf.keras.layers.Input((21 * 2, )),\n",
        "    tf.keras.layers.Dropout(0.2),\n",
        "    tf.keras.layers.Dense(20, activation='relu'),\n",
        "    tf.keras.layers.Dropout(0.4),\n",
        "    tf.keras.layers.Dense(10, activation='relu'),\n",
        "    tf.keras.layers.Dense(NUM_CLASSES, activation='softmax')\n",
        "])"
      ]
    },
    {
      "cell_type": "code",
      "execution_count": 8,
      "metadata": {
        "colab": {
          "base_uri": "https://localhost:8080/"
        },
        "id": "ypqky9tc9hE1",
        "outputId": "5db082bb-30e3-4110-bf63-a1ee777ecd46"
      },
      "outputs": [
        {
          "name": "stdout",
          "output_type": "stream",
          "text": [
            "Model: \"sequential\"\n",
            "_________________________________________________________________\n",
            " Layer (type)                Output Shape              Param #   \n",
            "=================================================================\n",
            " dropout (Dropout)           (None, 42)                0         \n",
            "                                                                 \n",
            " dense (Dense)               (None, 20)                860       \n",
            "                                                                 \n",
            " dropout_1 (Dropout)         (None, 20)                0         \n",
            "                                                                 \n",
            " dense_1 (Dense)             (None, 10)                210       \n",
            "                                                                 \n",
            " dense_2 (Dense)             (None, 7)                 77        \n",
            "                                                                 \n",
            "=================================================================\n",
            "Total params: 1147 (4.48 KB)\n",
            "Trainable params: 1147 (4.48 KB)\n",
            "Non-trainable params: 0 (0.00 Byte)\n",
            "_________________________________________________________________\n"
          ]
        }
      ],
      "source": [
        "model.summary()  # tf.keras.utils.plot_model(model, show_shapes=True)"
      ]
    },
    {
      "cell_type": "code",
      "execution_count": 9,
      "metadata": {
        "id": "MbMjOflQ9hE1"
      },
      "outputs": [],
      "source": [
        "# Model checkpoint callback\n",
        "cp_callback = tf.keras.callbacks.ModelCheckpoint(\n",
        "    model_save_path, verbose=1, save_weights_only=False)\n",
        "# Callback for early stopping\n",
        "es_callback = tf.keras.callbacks.EarlyStopping(patience=20, verbose=1)"
      ]
    },
    {
      "cell_type": "code",
      "execution_count": 10,
      "metadata": {
        "id": "c3Dac0M_9hE2"
      },
      "outputs": [
        {
          "name": "stdout",
          "output_type": "stream",
          "text": [
            "WARNING:tensorflow:From c:\\Users\\Aadi\\OneDrive\\Desktop\\TFODCourse\\tfod\\Lib\\site-packages\\keras\\src\\optimizers\\__init__.py:309: The name tf.train.Optimizer is deprecated. Please use tf.compat.v1.train.Optimizer instead.\n",
            "\n"
          ]
        }
      ],
      "source": [
        "# Model compilation\n",
        "model.compile(\n",
        "    optimizer='adam',\n",
        "    loss='sparse_categorical_crossentropy',\n",
        "    metrics=['accuracy']\n",
        ")"
      ]
    },
    {
      "cell_type": "markdown",
      "metadata": {
        "id": "7XI0j1Iu9hE2"
      },
      "source": [
        "# Model training"
      ]
    },
    {
      "cell_type": "code",
      "execution_count": 11,
      "metadata": {
        "colab": {
          "base_uri": "https://localhost:8080/"
        },
        "id": "WirBl-JE9hE3",
        "outputId": "71b30ca2-8294-4d9d-8aa2-800d90d399de",
        "scrolled": true
      },
      "outputs": [
        {
          "name": "stdout",
          "output_type": "stream",
          "text": [
            "Epoch 1/1000\n",
            "WARNING:tensorflow:From c:\\Users\\Aadi\\OneDrive\\Desktop\\TFODCourse\\tfod\\Lib\\site-packages\\keras\\src\\utils\\tf_utils.py:492: The name tf.ragged.RaggedTensorValue is deprecated. Please use tf.compat.v1.ragged.RaggedTensorValue instead.\n",
            "\n",
            "WARNING:tensorflow:From c:\\Users\\Aadi\\OneDrive\\Desktop\\TFODCourse\\tfod\\Lib\\site-packages\\keras\\src\\engine\\base_layer_utils.py:384: The name tf.executing_eagerly_outside_functions is deprecated. Please use tf.compat.v1.executing_eagerly_outside_functions instead.\n",
            "\n",
            " 1/20 [>.............................] - ETA: 26s - loss: 2.0079 - accuracy: 0.1094\n",
            "Epoch 1: saving model to model/keypoint_classifier\\keypoint_classifier.hdf5\n",
            "20/20 [==============================] - 2s 21ms/step - loss: 1.9232 - accuracy: 0.2263 - val_loss: 1.8369 - val_accuracy: 0.3289\n",
            "Epoch 2/1000\n",
            " 1/20 [>.............................] - ETA: 0s - loss: 1.8745 - accuracy: 0.3438\n",
            "Epoch 2: saving model to model/keypoint_classifier\\keypoint_classifier.hdf5\n",
            "20/20 [==============================] - 0s 6ms/step - loss: 1.8032 - accuracy: 0.3296 - val_loss: 1.7542 - val_accuracy: 0.3603\n",
            "Epoch 3/1000\n",
            " 1/20 [>.............................] - ETA: 0s - loss: 1.7710 - accuracy: 0.3281"
          ]
        },
        {
          "name": "stderr",
          "output_type": "stream",
          "text": [
            "c:\\Users\\Aadi\\OneDrive\\Desktop\\TFODCourse\\tfod\\Lib\\site-packages\\keras\\src\\engine\\training.py:3103: UserWarning: You are saving your model as an HDF5 file via `model.save()`. This file format is considered legacy. We recommend using instead the native Keras format, e.g. `model.save('my_model.keras')`.\n",
            "  saving_api.save_model(\n"
          ]
        },
        {
          "name": "stdout",
          "output_type": "stream",
          "text": [
            "\n",
            "Epoch 3: saving model to model/keypoint_classifier\\keypoint_classifier.hdf5\n",
            "20/20 [==============================] - 0s 6ms/step - loss: 1.7357 - accuracy: 0.3530 - val_loss: 1.6655 - val_accuracy: 0.3180\n",
            "Epoch 4/1000\n",
            " 1/20 [>.............................] - ETA: 0s - loss: 1.7530 - accuracy: 0.3047\n",
            "Epoch 4: saving model to model/keypoint_classifier\\keypoint_classifier.hdf5\n",
            "20/20 [==============================] - 0s 6ms/step - loss: 1.6298 - accuracy: 0.3889 - val_loss: 1.5553 - val_accuracy: 0.3833\n",
            "Epoch 5/1000\n",
            " 1/20 [>.............................] - ETA: 0s - loss: 1.6197 - accuracy: 0.3906\n",
            "Epoch 5: saving model to model/keypoint_classifier\\keypoint_classifier.hdf5\n",
            "20/20 [==============================] - 0s 7ms/step - loss: 1.5442 - accuracy: 0.3913 - val_loss: 1.4526 - val_accuracy: 0.4946\n",
            "Epoch 6/1000\n",
            " 1/20 [>.............................] - ETA: 0s - loss: 1.4848 - accuracy: 0.4141\n",
            "Epoch 6: saving model to model/keypoint_classifier\\keypoint_classifier.hdf5\n",
            "20/20 [==============================] - 0s 5ms/step - loss: 1.4687 - accuracy: 0.4268 - val_loss: 1.3675 - val_accuracy: 0.5212\n",
            "Epoch 7/1000\n",
            " 1/20 [>.............................] - ETA: 0s - loss: 1.3752 - accuracy: 0.5078\n",
            "Epoch 7: saving model to model/keypoint_classifier\\keypoint_classifier.hdf5\n",
            "20/20 [==============================] - 0s 5ms/step - loss: 1.4005 - accuracy: 0.4675 - val_loss: 1.2943 - val_accuracy: 0.5659\n",
            "Epoch 8/1000\n",
            " 1/20 [>.............................] - ETA: 0s - loss: 1.3321 - accuracy: 0.4453\n",
            "Epoch 8: saving model to model/keypoint_classifier\\keypoint_classifier.hdf5\n",
            "20/20 [==============================] - 0s 5ms/step - loss: 1.3561 - accuracy: 0.4752 - val_loss: 1.2327 - val_accuracy: 0.5901\n",
            "Epoch 9/1000\n",
            " 1/20 [>.............................] - ETA: 0s - loss: 1.3956 - accuracy: 0.5000\n",
            "Epoch 9: saving model to model/keypoint_classifier\\keypoint_classifier.hdf5\n",
            "20/20 [==============================] - 0s 5ms/step - loss: 1.3383 - accuracy: 0.4913 - val_loss: 1.1826 - val_accuracy: 0.6203\n",
            "Epoch 10/1000\n",
            " 1/20 [>.............................] - ETA: 0s - loss: 1.2886 - accuracy: 0.5156\n",
            "Epoch 10: saving model to model/keypoint_classifier\\keypoint_classifier.hdf5\n",
            "20/20 [==============================] - 0s 5ms/step - loss: 1.2934 - accuracy: 0.5075 - val_loss: 1.1332 - val_accuracy: 0.6409\n",
            "Epoch 11/1000\n",
            " 1/20 [>.............................] - ETA: 0s - loss: 1.3279 - accuracy: 0.4922\n",
            "Epoch 11: saving model to model/keypoint_classifier\\keypoint_classifier.hdf5\n",
            "20/20 [==============================] - 0s 5ms/step - loss: 1.2554 - accuracy: 0.5244 - val_loss: 1.0950 - val_accuracy: 0.6493\n",
            "Epoch 12/1000\n",
            " 1/20 [>.............................] - ETA: 0s - loss: 1.1709 - accuracy: 0.5469\n",
            "Epoch 12: saving model to model/keypoint_classifier\\keypoint_classifier.hdf5\n",
            "20/20 [==============================] - 0s 5ms/step - loss: 1.2436 - accuracy: 0.5212 - val_loss: 1.0639 - val_accuracy: 0.6723\n",
            "Epoch 13/1000\n",
            " 1/20 [>.............................] - ETA: 0s - loss: 1.2645 - accuracy: 0.5625\n",
            "Epoch 13: saving model to model/keypoint_classifier\\keypoint_classifier.hdf5\n",
            "20/20 [==============================] - 0s 5ms/step - loss: 1.2016 - accuracy: 0.5651 - val_loss: 1.0311 - val_accuracy: 0.6687\n",
            "Epoch 14/1000\n",
            " 1/20 [>.............................] - ETA: 0s - loss: 1.1442 - accuracy: 0.6172\n",
            "Epoch 14: saving model to model/keypoint_classifier\\keypoint_classifier.hdf5\n",
            "20/20 [==============================] - 0s 5ms/step - loss: 1.1931 - accuracy: 0.5591 - val_loss: 0.9984 - val_accuracy: 0.6651\n",
            "Epoch 15/1000\n",
            " 1/20 [>.............................] - ETA: 0s - loss: 1.1902 - accuracy: 0.5547\n",
            "Epoch 15: saving model to model/keypoint_classifier\\keypoint_classifier.hdf5\n",
            "20/20 [==============================] - 0s 5ms/step - loss: 1.1859 - accuracy: 0.5522 - val_loss: 0.9733 - val_accuracy: 0.6808\n",
            "Epoch 16/1000\n",
            " 1/20 [>.............................] - ETA: 0s - loss: 1.1359 - accuracy: 0.5703\n",
            "Epoch 16: saving model to model/keypoint_classifier\\keypoint_classifier.hdf5\n",
            "20/20 [==============================] - 0s 6ms/step - loss: 1.1404 - accuracy: 0.5760 - val_loss: 0.9513 - val_accuracy: 0.6711\n",
            "Epoch 17/1000\n",
            "20/20 [==============================] - ETA: 0s - loss: 1.1154 - accuracy: 0.5760\n",
            "Epoch 17: saving model to model/keypoint_classifier\\keypoint_classifier.hdf5\n",
            "20/20 [==============================] - 0s 6ms/step - loss: 1.1154 - accuracy: 0.5760 - val_loss: 0.9255 - val_accuracy: 0.6820\n",
            "Epoch 18/1000\n",
            " 1/20 [>.............................] - ETA: 0s - loss: 1.1085 - accuracy: 0.5703\n",
            "Epoch 18: saving model to model/keypoint_classifier\\keypoint_classifier.hdf5\n",
            "20/20 [==============================] - 0s 5ms/step - loss: 1.1036 - accuracy: 0.5930 - val_loss: 0.8974 - val_accuracy: 0.7050\n",
            "Epoch 19/1000\n",
            " 1/20 [>.............................] - ETA: 0s - loss: 1.0601 - accuracy: 0.6016\n",
            "Epoch 19: saving model to model/keypoint_classifier\\keypoint_classifier.hdf5\n",
            "20/20 [==============================] - 0s 6ms/step - loss: 1.0794 - accuracy: 0.5998 - val_loss: 0.8770 - val_accuracy: 0.7086\n",
            "Epoch 20/1000\n",
            " 1/20 [>.............................] - ETA: 0s - loss: 1.0384 - accuracy: 0.6094\n",
            "Epoch 20: saving model to model/keypoint_classifier\\keypoint_classifier.hdf5\n",
            "20/20 [==============================] - 0s 6ms/step - loss: 1.0687 - accuracy: 0.5986 - val_loss: 0.8559 - val_accuracy: 0.7146\n",
            "Epoch 21/1000\n",
            " 1/20 [>.............................] - ETA: 0s - loss: 1.1286 - accuracy: 0.5156\n",
            "Epoch 21: saving model to model/keypoint_classifier\\keypoint_classifier.hdf5\n",
            "20/20 [==============================] - 0s 6ms/step - loss: 1.0572 - accuracy: 0.6043 - val_loss: 0.8351 - val_accuracy: 0.7328\n",
            "Epoch 22/1000\n",
            " 1/20 [>.............................] - ETA: 0s - loss: 0.9856 - accuracy: 0.6328\n",
            "Epoch 22: saving model to model/keypoint_classifier\\keypoint_classifier.hdf5\n",
            "20/20 [==============================] - 0s 6ms/step - loss: 1.0220 - accuracy: 0.6119 - val_loss: 0.8106 - val_accuracy: 0.7437\n",
            "Epoch 23/1000\n",
            " 1/20 [>.............................] - ETA: 0s - loss: 1.0416 - accuracy: 0.5938\n",
            "Epoch 23: saving model to model/keypoint_classifier\\keypoint_classifier.hdf5\n",
            "20/20 [==============================] - 0s 6ms/step - loss: 1.0067 - accuracy: 0.6184 - val_loss: 0.7998 - val_accuracy: 0.7557\n",
            "Epoch 24/1000\n",
            " 1/20 [>.............................] - ETA: 0s - loss: 0.9983 - accuracy: 0.6016\n",
            "Epoch 24: saving model to model/keypoint_classifier\\keypoint_classifier.hdf5\n",
            "20/20 [==============================] - 0s 5ms/step - loss: 1.0062 - accuracy: 0.6031 - val_loss: 0.7757 - val_accuracy: 0.7570\n",
            "Epoch 25/1000\n",
            " 1/20 [>.............................] - ETA: 0s - loss: 1.0913 - accuracy: 0.6172\n",
            "Epoch 25: saving model to model/keypoint_classifier\\keypoint_classifier.hdf5\n",
            "20/20 [==============================] - 0s 5ms/step - loss: 1.0049 - accuracy: 0.6176 - val_loss: 0.7656 - val_accuracy: 0.7618\n",
            "Epoch 26/1000\n",
            " 1/20 [>.............................] - ETA: 0s - loss: 1.0342 - accuracy: 0.6016\n",
            "Epoch 26: saving model to model/keypoint_classifier\\keypoint_classifier.hdf5\n",
            "20/20 [==============================] - 0s 6ms/step - loss: 0.9938 - accuracy: 0.6216 - val_loss: 0.7464 - val_accuracy: 0.7787\n",
            "Epoch 27/1000\n",
            " 1/20 [>.............................] - ETA: 0s - loss: 1.0025 - accuracy: 0.6094\n",
            "Epoch 27: saving model to model/keypoint_classifier\\keypoint_classifier.hdf5\n",
            "20/20 [==============================] - 0s 5ms/step - loss: 0.9831 - accuracy: 0.6353 - val_loss: 0.7312 - val_accuracy: 0.7884\n",
            "Epoch 28/1000\n",
            " 1/20 [>.............................] - ETA: 0s - loss: 0.9303 - accuracy: 0.6406\n",
            "Epoch 28: saving model to model/keypoint_classifier\\keypoint_classifier.hdf5\n",
            "20/20 [==============================] - 0s 6ms/step - loss: 0.9679 - accuracy: 0.6273 - val_loss: 0.7178 - val_accuracy: 0.7956\n",
            "Epoch 29/1000\n",
            " 1/20 [>.............................] - ETA: 0s - loss: 0.8983 - accuracy: 0.6719\n",
            "Epoch 29: saving model to model/keypoint_classifier\\keypoint_classifier.hdf5\n",
            "20/20 [==============================] - 0s 6ms/step - loss: 0.9425 - accuracy: 0.6539 - val_loss: 0.7067 - val_accuracy: 0.8029\n",
            "Epoch 30/1000\n",
            " 1/20 [>.............................] - ETA: 0s - loss: 0.8481 - accuracy: 0.6875\n",
            "Epoch 30: saving model to model/keypoint_classifier\\keypoint_classifier.hdf5\n",
            "20/20 [==============================] - 0s 6ms/step - loss: 0.9317 - accuracy: 0.6438 - val_loss: 0.6966 - val_accuracy: 0.8005\n",
            "Epoch 31/1000\n",
            " 1/20 [>.............................] - ETA: 0s - loss: 0.9394 - accuracy: 0.6250\n",
            "Epoch 31: saving model to model/keypoint_classifier\\keypoint_classifier.hdf5\n",
            "20/20 [==============================] - 0s 6ms/step - loss: 0.9523 - accuracy: 0.6434 - val_loss: 0.6812 - val_accuracy: 0.8053\n",
            "Epoch 32/1000\n",
            " 1/20 [>.............................] - ETA: 0s - loss: 0.9373 - accuracy: 0.6641\n",
            "Epoch 32: saving model to model/keypoint_classifier\\keypoint_classifier.hdf5\n",
            "20/20 [==============================] - 0s 5ms/step - loss: 0.9430 - accuracy: 0.6555 - val_loss: 0.6704 - val_accuracy: 0.8065\n",
            "Epoch 33/1000\n",
            "17/20 [========================>.....] - ETA: 0s - loss: 0.9350 - accuracy: 0.6480\n",
            "Epoch 33: saving model to model/keypoint_classifier\\keypoint_classifier.hdf5\n",
            "20/20 [==============================] - 0s 7ms/step - loss: 0.9437 - accuracy: 0.6438 - val_loss: 0.6691 - val_accuracy: 0.8065\n",
            "Epoch 34/1000\n",
            " 1/20 [>.............................] - ETA: 0s - loss: 0.9850 - accuracy: 0.6641\n",
            "Epoch 34: saving model to model/keypoint_classifier\\keypoint_classifier.hdf5\n",
            "20/20 [==============================] - 0s 5ms/step - loss: 0.9195 - accuracy: 0.6491 - val_loss: 0.6645 - val_accuracy: 0.8102\n",
            "Epoch 35/1000\n",
            " 1/20 [>.............................] - ETA: 0s - loss: 1.0696 - accuracy: 0.6328\n",
            "Epoch 35: saving model to model/keypoint_classifier\\keypoint_classifier.hdf5\n",
            "20/20 [==============================] - 0s 5ms/step - loss: 0.9188 - accuracy: 0.6499 - val_loss: 0.6545 - val_accuracy: 0.8077\n",
            "Epoch 36/1000\n",
            " 1/20 [>.............................] - ETA: 0s - loss: 0.8222 - accuracy: 0.6719\n",
            "Epoch 36: saving model to model/keypoint_classifier\\keypoint_classifier.hdf5\n",
            "20/20 [==============================] - 0s 6ms/step - loss: 0.9048 - accuracy: 0.6579 - val_loss: 0.6475 - val_accuracy: 0.8126\n",
            "Epoch 37/1000\n",
            " 1/20 [>.............................] - ETA: 0s - loss: 0.8521 - accuracy: 0.6406\n",
            "Epoch 37: saving model to model/keypoint_classifier\\keypoint_classifier.hdf5\n",
            "20/20 [==============================] - 0s 6ms/step - loss: 0.8957 - accuracy: 0.6704 - val_loss: 0.6342 - val_accuracy: 0.8150\n",
            "Epoch 38/1000\n",
            " 1/20 [>.............................] - ETA: 0s - loss: 0.8195 - accuracy: 0.7266\n",
            "Epoch 38: saving model to model/keypoint_classifier\\keypoint_classifier.hdf5\n",
            "20/20 [==============================] - 0s 5ms/step - loss: 0.8874 - accuracy: 0.6664 - val_loss: 0.6256 - val_accuracy: 0.8319\n",
            "Epoch 39/1000\n",
            " 1/20 [>.............................] - ETA: 0s - loss: 0.8156 - accuracy: 0.7109\n",
            "Epoch 39: saving model to model/keypoint_classifier\\keypoint_classifier.hdf5\n",
            "20/20 [==============================] - 0s 5ms/step - loss: 0.8927 - accuracy: 0.6708 - val_loss: 0.6222 - val_accuracy: 0.8150\n",
            "Epoch 40/1000\n",
            " 1/20 [>.............................] - ETA: 0s - loss: 1.0197 - accuracy: 0.5703\n",
            "Epoch 40: saving model to model/keypoint_classifier\\keypoint_classifier.hdf5\n",
            "20/20 [==============================] - 0s 5ms/step - loss: 0.8940 - accuracy: 0.6628 - val_loss: 0.6142 - val_accuracy: 0.8343\n",
            "Epoch 41/1000\n",
            " 1/20 [>.............................] - ETA: 0s - loss: 0.8733 - accuracy: 0.6641\n",
            "Epoch 41: saving model to model/keypoint_classifier\\keypoint_classifier.hdf5\n",
            "20/20 [==============================] - 0s 6ms/step - loss: 0.8796 - accuracy: 0.6733 - val_loss: 0.6103 - val_accuracy: 0.8368\n",
            "Epoch 42/1000\n",
            " 1/20 [>.............................] - ETA: 0s - loss: 0.7656 - accuracy: 0.7656\n",
            "Epoch 42: saving model to model/keypoint_classifier\\keypoint_classifier.hdf5\n",
            "20/20 [==============================] - 0s 5ms/step - loss: 0.8878 - accuracy: 0.6729 - val_loss: 0.6049 - val_accuracy: 0.8307\n",
            "Epoch 43/1000\n",
            " 1/20 [>.............................] - ETA: 0s - loss: 0.9339 - accuracy: 0.6875\n",
            "Epoch 43: saving model to model/keypoint_classifier\\keypoint_classifier.hdf5\n",
            "20/20 [==============================] - 0s 5ms/step - loss: 0.8714 - accuracy: 0.6636 - val_loss: 0.6019 - val_accuracy: 0.8331\n",
            "Epoch 44/1000\n",
            " 1/20 [>.............................] - ETA: 0s - loss: 0.8927 - accuracy: 0.6641\n",
            "Epoch 44: saving model to model/keypoint_classifier\\keypoint_classifier.hdf5\n",
            "20/20 [==============================] - 0s 5ms/step - loss: 0.8681 - accuracy: 0.6749 - val_loss: 0.6017 - val_accuracy: 0.8307\n",
            "Epoch 45/1000\n",
            " 1/20 [>.............................] - ETA: 0s - loss: 0.8511 - accuracy: 0.6562\n",
            "Epoch 45: saving model to model/keypoint_classifier\\keypoint_classifier.hdf5\n",
            "20/20 [==============================] - 0s 5ms/step - loss: 0.8633 - accuracy: 0.6733 - val_loss: 0.6008 - val_accuracy: 0.8392\n",
            "Epoch 46/1000\n",
            " 1/20 [>.............................] - ETA: 0s - loss: 0.8354 - accuracy: 0.6641\n",
            "Epoch 46: saving model to model/keypoint_classifier\\keypoint_classifier.hdf5\n",
            "20/20 [==============================] - 0s 6ms/step - loss: 0.8565 - accuracy: 0.6720 - val_loss: 0.5942 - val_accuracy: 0.8452\n",
            "Epoch 47/1000\n",
            " 1/20 [>.............................] - ETA: 0s - loss: 0.8449 - accuracy: 0.6953\n",
            "Epoch 47: saving model to model/keypoint_classifier\\keypoint_classifier.hdf5\n",
            "20/20 [==============================] - 0s 6ms/step - loss: 0.8528 - accuracy: 0.6769 - val_loss: 0.5857 - val_accuracy: 0.8404\n",
            "Epoch 48/1000\n",
            "13/20 [==================>...........] - ETA: 0s - loss: 0.8259 - accuracy: 0.6887\n",
            "Epoch 48: saving model to model/keypoint_classifier\\keypoint_classifier.hdf5\n",
            "20/20 [==============================] - 0s 8ms/step - loss: 0.8526 - accuracy: 0.6829 - val_loss: 0.5792 - val_accuracy: 0.8464\n",
            "Epoch 49/1000\n",
            " 1/20 [>.............................] - ETA: 0s - loss: 0.8400 - accuracy: 0.7031\n",
            "Epoch 49: saving model to model/keypoint_classifier\\keypoint_classifier.hdf5\n",
            "20/20 [==============================] - 0s 6ms/step - loss: 0.8444 - accuracy: 0.6906 - val_loss: 0.5733 - val_accuracy: 0.8525\n",
            "Epoch 50/1000\n",
            " 1/20 [>.............................] - ETA: 0s - loss: 0.8894 - accuracy: 0.6328\n",
            "Epoch 50: saving model to model/keypoint_classifier\\keypoint_classifier.hdf5\n",
            "20/20 [==============================] - 0s 6ms/step - loss: 0.8415 - accuracy: 0.6846 - val_loss: 0.5719 - val_accuracy: 0.8476\n",
            "Epoch 51/1000\n",
            " 1/20 [>.............................] - ETA: 0s - loss: 0.9421 - accuracy: 0.6250\n",
            "Epoch 51: saving model to model/keypoint_classifier\\keypoint_classifier.hdf5\n",
            "20/20 [==============================] - 0s 5ms/step - loss: 0.8579 - accuracy: 0.6745 - val_loss: 0.5714 - val_accuracy: 0.8525\n",
            "Epoch 52/1000\n",
            " 1/20 [>.............................] - ETA: 0s - loss: 0.7377 - accuracy: 0.7031\n",
            "Epoch 52: saving model to model/keypoint_classifier\\keypoint_classifier.hdf5\n",
            "20/20 [==============================] - 0s 5ms/step - loss: 0.8424 - accuracy: 0.6906 - val_loss: 0.5684 - val_accuracy: 0.8513\n",
            "Epoch 53/1000\n",
            " 1/20 [>.............................] - ETA: 0s - loss: 0.9413 - accuracy: 0.5938\n",
            "Epoch 53: saving model to model/keypoint_classifier\\keypoint_classifier.hdf5\n",
            "20/20 [==============================] - 0s 5ms/step - loss: 0.8157 - accuracy: 0.6950 - val_loss: 0.5604 - val_accuracy: 0.8440\n",
            "Epoch 54/1000\n",
            " 1/20 [>.............................] - ETA: 0s - loss: 0.8227 - accuracy: 0.7188\n",
            "Epoch 54: saving model to model/keypoint_classifier\\keypoint_classifier.hdf5\n",
            "20/20 [==============================] - 0s 5ms/step - loss: 0.8179 - accuracy: 0.6922 - val_loss: 0.5506 - val_accuracy: 0.8501\n",
            "Epoch 55/1000\n",
            " 1/20 [>.............................] - ETA: 0s - loss: 0.9932 - accuracy: 0.6641\n",
            "Epoch 55: saving model to model/keypoint_classifier\\keypoint_classifier.hdf5\n",
            "20/20 [==============================] - 0s 5ms/step - loss: 0.8285 - accuracy: 0.6886 - val_loss: 0.5528 - val_accuracy: 0.8501\n",
            "Epoch 56/1000\n",
            " 1/20 [>.............................] - ETA: 0s - loss: 0.8061 - accuracy: 0.7109\n",
            "Epoch 56: saving model to model/keypoint_classifier\\keypoint_classifier.hdf5\n",
            "20/20 [==============================] - 0s 6ms/step - loss: 0.8396 - accuracy: 0.6882 - val_loss: 0.5562 - val_accuracy: 0.8476\n",
            "Epoch 57/1000\n",
            " 1/20 [>.............................] - ETA: 0s - loss: 0.8098 - accuracy: 0.6719\n",
            "Epoch 57: saving model to model/keypoint_classifier\\keypoint_classifier.hdf5\n",
            "20/20 [==============================] - 0s 6ms/step - loss: 0.8356 - accuracy: 0.6841 - val_loss: 0.5512 - val_accuracy: 0.8513\n",
            "Epoch 58/1000\n",
            " 1/20 [>.............................] - ETA: 0s - loss: 0.7470 - accuracy: 0.7578\n",
            "Epoch 58: saving model to model/keypoint_classifier\\keypoint_classifier.hdf5\n",
            "20/20 [==============================] - 0s 5ms/step - loss: 0.8257 - accuracy: 0.7035 - val_loss: 0.5525 - val_accuracy: 0.8525\n",
            "Epoch 59/1000\n",
            " 1/20 [>.............................] - ETA: 0s - loss: 0.7335 - accuracy: 0.7812\n",
            "Epoch 59: saving model to model/keypoint_classifier\\keypoint_classifier.hdf5\n",
            "20/20 [==============================] - 0s 5ms/step - loss: 0.8114 - accuracy: 0.7035 - val_loss: 0.5450 - val_accuracy: 0.8513\n",
            "Epoch 60/1000\n",
            " 1/20 [>.............................] - ETA: 0s - loss: 0.7328 - accuracy: 0.7266\n",
            "Epoch 60: saving model to model/keypoint_classifier\\keypoint_classifier.hdf5\n",
            "20/20 [==============================] - 0s 5ms/step - loss: 0.8067 - accuracy: 0.6926 - val_loss: 0.5471 - val_accuracy: 0.8476\n",
            "Epoch 61/1000\n",
            " 1/20 [>.............................] - ETA: 0s - loss: 0.7898 - accuracy: 0.7188\n",
            "Epoch 61: saving model to model/keypoint_classifier\\keypoint_classifier.hdf5\n",
            "20/20 [==============================] - 0s 5ms/step - loss: 0.8146 - accuracy: 0.6926 - val_loss: 0.5453 - val_accuracy: 0.8440\n",
            "Epoch 62/1000\n",
            " 1/20 [>.............................] - ETA: 0s - loss: 0.9377 - accuracy: 0.6406\n",
            "Epoch 62: saving model to model/keypoint_classifier\\keypoint_classifier.hdf5\n",
            "20/20 [==============================] - 0s 5ms/step - loss: 0.8086 - accuracy: 0.6954 - val_loss: 0.5405 - val_accuracy: 0.8537\n",
            "Epoch 63/1000\n",
            "17/20 [========================>.....] - ETA: 0s - loss: 0.8073 - accuracy: 0.6949\n",
            "Epoch 63: saving model to model/keypoint_classifier\\keypoint_classifier.hdf5\n",
            "20/20 [==============================] - 0s 7ms/step - loss: 0.8198 - accuracy: 0.6906 - val_loss: 0.5377 - val_accuracy: 0.8525\n",
            "Epoch 64/1000\n",
            " 1/20 [>.............................] - ETA: 0s - loss: 0.7027 - accuracy: 0.7500\n",
            "Epoch 64: saving model to model/keypoint_classifier\\keypoint_classifier.hdf5\n",
            "20/20 [==============================] - 0s 5ms/step - loss: 0.8159 - accuracy: 0.6934 - val_loss: 0.5376 - val_accuracy: 0.8513\n",
            "Epoch 65/1000\n",
            " 1/20 [>.............................] - ETA: 0s - loss: 0.8313 - accuracy: 0.6953\n",
            "Epoch 65: saving model to model/keypoint_classifier\\keypoint_classifier.hdf5\n",
            "20/20 [==============================] - 0s 6ms/step - loss: 0.7907 - accuracy: 0.7108 - val_loss: 0.5328 - val_accuracy: 0.8537\n",
            "Epoch 66/1000\n",
            " 1/20 [>.............................] - ETA: 0s - loss: 0.8094 - accuracy: 0.6875\n",
            "Epoch 66: saving model to model/keypoint_classifier\\keypoint_classifier.hdf5\n",
            "20/20 [==============================] - 0s 6ms/step - loss: 0.7872 - accuracy: 0.7015 - val_loss: 0.5332 - val_accuracy: 0.8513\n",
            "Epoch 67/1000\n",
            " 1/20 [>.............................] - ETA: 0s - loss: 0.7838 - accuracy: 0.7266\n",
            "Epoch 67: saving model to model/keypoint_classifier\\keypoint_classifier.hdf5\n",
            "20/20 [==============================] - 0s 7ms/step - loss: 0.7870 - accuracy: 0.7128 - val_loss: 0.5250 - val_accuracy: 0.8489\n",
            "Epoch 68/1000\n",
            " 1/20 [>.............................] - ETA: 0s - loss: 0.7941 - accuracy: 0.7031\n",
            "Epoch 68: saving model to model/keypoint_classifier\\keypoint_classifier.hdf5\n",
            "20/20 [==============================] - 0s 6ms/step - loss: 0.7918 - accuracy: 0.6995 - val_loss: 0.5157 - val_accuracy: 0.8525\n",
            "Epoch 69/1000\n",
            " 1/20 [>.............................] - ETA: 0s - loss: 0.8272 - accuracy: 0.6797\n",
            "Epoch 69: saving model to model/keypoint_classifier\\keypoint_classifier.hdf5\n",
            "20/20 [==============================] - 0s 6ms/step - loss: 0.7843 - accuracy: 0.6991 - val_loss: 0.5147 - val_accuracy: 0.8525\n",
            "Epoch 70/1000\n",
            " 1/20 [>.............................] - ETA: 0s - loss: 0.8904 - accuracy: 0.6641\n",
            "Epoch 70: saving model to model/keypoint_classifier\\keypoint_classifier.hdf5\n",
            "20/20 [==============================] - 0s 5ms/step - loss: 0.7895 - accuracy: 0.6983 - val_loss: 0.5147 - val_accuracy: 0.8561\n",
            "Epoch 71/1000\n",
            " 1/20 [>.............................] - ETA: 0s - loss: 0.8481 - accuracy: 0.7109\n",
            "Epoch 71: saving model to model/keypoint_classifier\\keypoint_classifier.hdf5\n",
            "20/20 [==============================] - 0s 5ms/step - loss: 0.7695 - accuracy: 0.7164 - val_loss: 0.5101 - val_accuracy: 0.8549\n",
            "Epoch 72/1000\n",
            " 1/20 [>.............................] - ETA: 0s - loss: 0.7854 - accuracy: 0.7031\n",
            "Epoch 72: saving model to model/keypoint_classifier\\keypoint_classifier.hdf5\n",
            "20/20 [==============================] - 0s 5ms/step - loss: 0.7819 - accuracy: 0.7019 - val_loss: 0.5150 - val_accuracy: 0.8525\n",
            "Epoch 73/1000\n",
            " 1/20 [>.............................] - ETA: 0s - loss: 0.7301 - accuracy: 0.7109\n",
            "Epoch 73: saving model to model/keypoint_classifier\\keypoint_classifier.hdf5\n",
            "20/20 [==============================] - 0s 5ms/step - loss: 0.7856 - accuracy: 0.6942 - val_loss: 0.5122 - val_accuracy: 0.8501\n",
            "Epoch 74/1000\n",
            " 1/20 [>.............................] - ETA: 0s - loss: 0.7400 - accuracy: 0.7031\n",
            "Epoch 74: saving model to model/keypoint_classifier\\keypoint_classifier.hdf5\n",
            "20/20 [==============================] - 0s 5ms/step - loss: 0.7854 - accuracy: 0.7035 - val_loss: 0.5070 - val_accuracy: 0.8549\n",
            "Epoch 75/1000\n",
            " 1/20 [>.............................] - ETA: 0s - loss: 0.8246 - accuracy: 0.7188\n",
            "Epoch 75: saving model to model/keypoint_classifier\\keypoint_classifier.hdf5\n",
            "20/20 [==============================] - 0s 5ms/step - loss: 0.7505 - accuracy: 0.7144 - val_loss: 0.4984 - val_accuracy: 0.8585\n",
            "Epoch 76/1000\n",
            " 1/20 [>.............................] - ETA: 0s - loss: 0.7099 - accuracy: 0.7266\n",
            "Epoch 76: saving model to model/keypoint_classifier\\keypoint_classifier.hdf5\n",
            "20/20 [==============================] - 0s 5ms/step - loss: 0.7475 - accuracy: 0.7196 - val_loss: 0.4903 - val_accuracy: 0.8501\n",
            "Epoch 77/1000\n",
            " 1/20 [>.............................] - ETA: 0s - loss: 0.7435 - accuracy: 0.7188\n",
            "Epoch 77: saving model to model/keypoint_classifier\\keypoint_classifier.hdf5\n",
            "20/20 [==============================] - 0s 7ms/step - loss: 0.7634 - accuracy: 0.7140 - val_loss: 0.4969 - val_accuracy: 0.8549\n",
            "Epoch 78/1000\n",
            " 1/20 [>.............................] - ETA: 0s - loss: 0.6412 - accuracy: 0.7812\n",
            "Epoch 78: saving model to model/keypoint_classifier\\keypoint_classifier.hdf5\n",
            "20/20 [==============================] - 0s 6ms/step - loss: 0.7728 - accuracy: 0.7104 - val_loss: 0.5047 - val_accuracy: 0.8585\n",
            "Epoch 79/1000\n",
            " 1/20 [>.............................] - ETA: 0s - loss: 0.8588 - accuracy: 0.6641\n",
            "Epoch 79: saving model to model/keypoint_classifier\\keypoint_classifier.hdf5\n",
            "20/20 [==============================] - 0s 5ms/step - loss: 0.7622 - accuracy: 0.7108 - val_loss: 0.4996 - val_accuracy: 0.8561\n",
            "Epoch 80/1000\n",
            " 1/20 [>.............................] - ETA: 0s - loss: 0.7881 - accuracy: 0.7344\n",
            "Epoch 80: saving model to model/keypoint_classifier\\keypoint_classifier.hdf5\n",
            "20/20 [==============================] - 0s 5ms/step - loss: 0.7638 - accuracy: 0.7112 - val_loss: 0.4961 - val_accuracy: 0.8561\n",
            "Epoch 81/1000\n",
            " 1/20 [>.............................] - ETA: 0s - loss: 0.8043 - accuracy: 0.6719\n",
            "Epoch 81: saving model to model/keypoint_classifier\\keypoint_classifier.hdf5\n",
            "20/20 [==============================] - 0s 5ms/step - loss: 0.7574 - accuracy: 0.7067 - val_loss: 0.4913 - val_accuracy: 0.8585\n",
            "Epoch 82/1000\n",
            " 1/20 [>.............................] - ETA: 0s - loss: 0.8053 - accuracy: 0.7422\n",
            "Epoch 82: saving model to model/keypoint_classifier\\keypoint_classifier.hdf5\n",
            "20/20 [==============================] - 0s 5ms/step - loss: 0.7497 - accuracy: 0.7156 - val_loss: 0.4840 - val_accuracy: 0.8609\n",
            "Epoch 83/1000\n",
            " 1/20 [>.............................] - ETA: 0s - loss: 0.7947 - accuracy: 0.7109\n",
            "Epoch 83: saving model to model/keypoint_classifier\\keypoint_classifier.hdf5\n",
            "20/20 [==============================] - 0s 5ms/step - loss: 0.7230 - accuracy: 0.7209 - val_loss: 0.4812 - val_accuracy: 0.8585\n",
            "Epoch 84/1000\n",
            " 1/20 [>.............................] - ETA: 0s - loss: 0.7790 - accuracy: 0.6641\n",
            "Epoch 84: saving model to model/keypoint_classifier\\keypoint_classifier.hdf5\n",
            "20/20 [==============================] - 0s 6ms/step - loss: 0.7237 - accuracy: 0.7257 - val_loss: 0.4794 - val_accuracy: 0.8585\n",
            "Epoch 85/1000\n",
            " 1/20 [>.............................] - ETA: 0s - loss: 0.7905 - accuracy: 0.7266\n",
            "Epoch 85: saving model to model/keypoint_classifier\\keypoint_classifier.hdf5\n",
            "20/20 [==============================] - 0s 5ms/step - loss: 0.7475 - accuracy: 0.7160 - val_loss: 0.4747 - val_accuracy: 0.8597\n",
            "Epoch 86/1000\n",
            " 1/20 [>.............................] - ETA: 0s - loss: 0.6825 - accuracy: 0.7344\n",
            "Epoch 86: saving model to model/keypoint_classifier\\keypoint_classifier.hdf5\n",
            "20/20 [==============================] - 0s 5ms/step - loss: 0.7571 - accuracy: 0.7160 - val_loss: 0.4735 - val_accuracy: 0.8585\n",
            "Epoch 87/1000\n",
            " 1/20 [>.............................] - ETA: 0s - loss: 0.7485 - accuracy: 0.7500\n",
            "Epoch 87: saving model to model/keypoint_classifier\\keypoint_classifier.hdf5\n",
            "20/20 [==============================] - 0s 5ms/step - loss: 0.7480 - accuracy: 0.7160 - val_loss: 0.4787 - val_accuracy: 0.8573\n",
            "Epoch 88/1000\n",
            " 1/20 [>.............................] - ETA: 0s - loss: 0.7346 - accuracy: 0.6797\n",
            "Epoch 88: saving model to model/keypoint_classifier\\keypoint_classifier.hdf5\n",
            "20/20 [==============================] - 0s 5ms/step - loss: 0.7387 - accuracy: 0.7241 - val_loss: 0.4746 - val_accuracy: 0.8585\n",
            "Epoch 89/1000\n",
            " 1/20 [>.............................] - ETA: 0s - loss: 0.6786 - accuracy: 0.7422\n",
            "Epoch 89: saving model to model/keypoint_classifier\\keypoint_classifier.hdf5\n",
            "20/20 [==============================] - 0s 5ms/step - loss: 0.7319 - accuracy: 0.7241 - val_loss: 0.4746 - val_accuracy: 0.8585\n",
            "Epoch 90/1000\n",
            " 1/20 [>.............................] - ETA: 0s - loss: 0.6801 - accuracy: 0.7500\n",
            "Epoch 90: saving model to model/keypoint_classifier\\keypoint_classifier.hdf5\n",
            "20/20 [==============================] - 0s 5ms/step - loss: 0.7079 - accuracy: 0.7414 - val_loss: 0.4667 - val_accuracy: 0.8597\n",
            "Epoch 91/1000\n",
            " 1/20 [>.............................] - ETA: 0s - loss: 0.7954 - accuracy: 0.6641\n",
            "Epoch 91: saving model to model/keypoint_classifier\\keypoint_classifier.hdf5\n",
            "20/20 [==============================] - 0s 5ms/step - loss: 0.7563 - accuracy: 0.7176 - val_loss: 0.4740 - val_accuracy: 0.8597\n",
            "Epoch 92/1000\n",
            "12/20 [=================>............] - ETA: 0s - loss: 0.7385 - accuracy: 0.7174\n",
            "Epoch 92: saving model to model/keypoint_classifier\\keypoint_classifier.hdf5\n",
            "20/20 [==============================] - 0s 7ms/step - loss: 0.7478 - accuracy: 0.7188 - val_loss: 0.4783 - val_accuracy: 0.8597\n",
            "Epoch 93/1000\n",
            " 1/20 [>.............................] - ETA: 0s - loss: 0.6962 - accuracy: 0.7578\n",
            "Epoch 93: saving model to model/keypoint_classifier\\keypoint_classifier.hdf5\n",
            "20/20 [==============================] - 0s 6ms/step - loss: 0.7244 - accuracy: 0.7313 - val_loss: 0.4682 - val_accuracy: 0.8597\n",
            "Epoch 94/1000\n",
            " 1/20 [>.............................] - ETA: 0s - loss: 0.8695 - accuracy: 0.6484\n",
            "Epoch 94: saving model to model/keypoint_classifier\\keypoint_classifier.hdf5\n",
            "20/20 [==============================] - 0s 6ms/step - loss: 0.7305 - accuracy: 0.7205 - val_loss: 0.4673 - val_accuracy: 0.8573\n",
            "Epoch 95/1000\n",
            " 1/20 [>.............................] - ETA: 0s - loss: 0.7352 - accuracy: 0.6875\n",
            "Epoch 95: saving model to model/keypoint_classifier\\keypoint_classifier.hdf5\n",
            "20/20 [==============================] - 0s 6ms/step - loss: 0.7075 - accuracy: 0.7338 - val_loss: 0.4601 - val_accuracy: 0.8609\n",
            "Epoch 96/1000\n",
            " 1/20 [>.............................] - ETA: 0s - loss: 0.8609 - accuracy: 0.6562\n",
            "Epoch 96: saving model to model/keypoint_classifier\\keypoint_classifier.hdf5\n",
            "20/20 [==============================] - 0s 6ms/step - loss: 0.7014 - accuracy: 0.7293 - val_loss: 0.4598 - val_accuracy: 0.8609\n",
            "Epoch 97/1000\n",
            " 1/20 [>.............................] - ETA: 0s - loss: 0.6627 - accuracy: 0.7266\n",
            "Epoch 97: saving model to model/keypoint_classifier\\keypoint_classifier.hdf5\n",
            "20/20 [==============================] - 0s 6ms/step - loss: 0.6991 - accuracy: 0.7217 - val_loss: 0.4593 - val_accuracy: 0.8561\n",
            "Epoch 98/1000\n",
            " 1/20 [>.............................] - ETA: 0s - loss: 0.6421 - accuracy: 0.8047\n",
            "Epoch 98: saving model to model/keypoint_classifier\\keypoint_classifier.hdf5\n",
            "20/20 [==============================] - 0s 6ms/step - loss: 0.7170 - accuracy: 0.7334 - val_loss: 0.4604 - val_accuracy: 0.8646\n",
            "Epoch 99/1000\n",
            " 1/20 [>.............................] - ETA: 0s - loss: 0.6974 - accuracy: 0.7812\n",
            "Epoch 99: saving model to model/keypoint_classifier\\keypoint_classifier.hdf5\n",
            "20/20 [==============================] - 0s 5ms/step - loss: 0.7063 - accuracy: 0.7285 - val_loss: 0.4660 - val_accuracy: 0.8585\n",
            "Epoch 100/1000\n",
            " 1/20 [>.............................] - ETA: 0s - loss: 0.5983 - accuracy: 0.7422\n",
            "Epoch 100: saving model to model/keypoint_classifier\\keypoint_classifier.hdf5\n",
            "20/20 [==============================] - 0s 5ms/step - loss: 0.6987 - accuracy: 0.7285 - val_loss: 0.4583 - val_accuracy: 0.8609\n",
            "Epoch 101/1000\n",
            " 1/20 [>.............................] - ETA: 0s - loss: 0.5412 - accuracy: 0.8203\n",
            "Epoch 101: saving model to model/keypoint_classifier\\keypoint_classifier.hdf5\n",
            "20/20 [==============================] - 0s 5ms/step - loss: 0.7195 - accuracy: 0.7200 - val_loss: 0.4537 - val_accuracy: 0.8634\n",
            "Epoch 102/1000\n",
            " 1/20 [>.............................] - ETA: 0s - loss: 0.7101 - accuracy: 0.7734\n",
            "Epoch 102: saving model to model/keypoint_classifier\\keypoint_classifier.hdf5\n",
            "20/20 [==============================] - 0s 5ms/step - loss: 0.6993 - accuracy: 0.7309 - val_loss: 0.4602 - val_accuracy: 0.8634\n",
            "Epoch 103/1000\n",
            " 1/20 [>.............................] - ETA: 0s - loss: 0.6564 - accuracy: 0.7578\n",
            "Epoch 103: saving model to model/keypoint_classifier\\keypoint_classifier.hdf5\n",
            "20/20 [==============================] - 0s 5ms/step - loss: 0.7047 - accuracy: 0.7233 - val_loss: 0.4581 - val_accuracy: 0.8658\n",
            "Epoch 104/1000\n",
            " 1/20 [>.............................] - ETA: 0s - loss: 0.7754 - accuracy: 0.6719\n",
            "Epoch 104: saving model to model/keypoint_classifier\\keypoint_classifier.hdf5\n",
            "20/20 [==============================] - 0s 5ms/step - loss: 0.7102 - accuracy: 0.7338 - val_loss: 0.4574 - val_accuracy: 0.8670\n",
            "Epoch 105/1000\n",
            " 1/20 [>.............................] - ETA: 0s - loss: 0.8679 - accuracy: 0.6562\n",
            "Epoch 105: saving model to model/keypoint_classifier\\keypoint_classifier.hdf5\n",
            "20/20 [==============================] - 0s 6ms/step - loss: 0.7070 - accuracy: 0.7305 - val_loss: 0.4610 - val_accuracy: 0.8634\n",
            "Epoch 106/1000\n",
            " 1/20 [>.............................] - ETA: 0s - loss: 0.6586 - accuracy: 0.7344\n",
            "Epoch 106: saving model to model/keypoint_classifier\\keypoint_classifier.hdf5\n",
            "20/20 [==============================] - 0s 5ms/step - loss: 0.7016 - accuracy: 0.7362 - val_loss: 0.4603 - val_accuracy: 0.8682\n",
            "Epoch 107/1000\n",
            " 1/20 [>.............................] - ETA: 0s - loss: 0.8505 - accuracy: 0.6875\n",
            "Epoch 107: saving model to model/keypoint_classifier\\keypoint_classifier.hdf5\n",
            "20/20 [==============================] - 0s 5ms/step - loss: 0.7103 - accuracy: 0.7406 - val_loss: 0.4686 - val_accuracy: 0.8670\n",
            "Epoch 108/1000\n",
            " 1/20 [>.............................] - ETA: 0s - loss: 0.7131 - accuracy: 0.7500\n",
            "Epoch 108: saving model to model/keypoint_classifier\\keypoint_classifier.hdf5\n",
            "20/20 [==============================] - 0s 5ms/step - loss: 0.7133 - accuracy: 0.7366 - val_loss: 0.4568 - val_accuracy: 0.8682\n",
            "Epoch 109/1000\n",
            " 1/20 [>.............................] - ETA: 0s - loss: 0.7777 - accuracy: 0.7266\n",
            "Epoch 109: saving model to model/keypoint_classifier\\keypoint_classifier.hdf5\n",
            "20/20 [==============================] - 0s 5ms/step - loss: 0.6879 - accuracy: 0.7366 - val_loss: 0.4538 - val_accuracy: 0.8658\n",
            "Epoch 110/1000\n",
            " 1/20 [>.............................] - ETA: 0s - loss: 0.6270 - accuracy: 0.7891\n",
            "Epoch 110: saving model to model/keypoint_classifier\\keypoint_classifier.hdf5\n",
            "20/20 [==============================] - 0s 5ms/step - loss: 0.6937 - accuracy: 0.7463 - val_loss: 0.4457 - val_accuracy: 0.8694\n",
            "Epoch 111/1000\n",
            " 1/20 [>.............................] - ETA: 0s - loss: 0.7189 - accuracy: 0.7031\n",
            "Epoch 111: saving model to model/keypoint_classifier\\keypoint_classifier.hdf5\n",
            "20/20 [==============================] - 0s 5ms/step - loss: 0.7045 - accuracy: 0.7301 - val_loss: 0.4550 - val_accuracy: 0.8670\n",
            "Epoch 112/1000\n",
            " 1/20 [>.............................] - ETA: 0s - loss: 0.7407 - accuracy: 0.7500\n",
            "Epoch 112: saving model to model/keypoint_classifier\\keypoint_classifier.hdf5\n",
            "20/20 [==============================] - 0s 6ms/step - loss: 0.7118 - accuracy: 0.7301 - val_loss: 0.4474 - val_accuracy: 0.8682\n",
            "Epoch 113/1000\n",
            " 1/20 [>.............................] - ETA: 0s - loss: 0.6542 - accuracy: 0.7578\n",
            "Epoch 113: saving model to model/keypoint_classifier\\keypoint_classifier.hdf5\n",
            "20/20 [==============================] - 0s 6ms/step - loss: 0.6825 - accuracy: 0.7430 - val_loss: 0.4500 - val_accuracy: 0.8682\n",
            "Epoch 114/1000\n",
            " 1/20 [>.............................] - ETA: 0s - loss: 0.6034 - accuracy: 0.7500\n",
            "Epoch 114: saving model to model/keypoint_classifier\\keypoint_classifier.hdf5\n",
            "20/20 [==============================] - 0s 6ms/step - loss: 0.6747 - accuracy: 0.7378 - val_loss: 0.4429 - val_accuracy: 0.8694\n",
            "Epoch 115/1000\n",
            " 1/20 [>.............................] - ETA: 0s - loss: 0.6458 - accuracy: 0.7422\n",
            "Epoch 115: saving model to model/keypoint_classifier\\keypoint_classifier.hdf5\n",
            "20/20 [==============================] - 0s 6ms/step - loss: 0.6890 - accuracy: 0.7309 - val_loss: 0.4531 - val_accuracy: 0.8682\n",
            "Epoch 116/1000\n",
            " 1/20 [>.............................] - ETA: 0s - loss: 0.7042 - accuracy: 0.7500\n",
            "Epoch 116: saving model to model/keypoint_classifier\\keypoint_classifier.hdf5\n",
            "20/20 [==============================] - 0s 5ms/step - loss: 0.6891 - accuracy: 0.7463 - val_loss: 0.4472 - val_accuracy: 0.8682\n",
            "Epoch 117/1000\n",
            " 1/20 [>.............................] - ETA: 0s - loss: 0.7049 - accuracy: 0.6953\n",
            "Epoch 117: saving model to model/keypoint_classifier\\keypoint_classifier.hdf5\n",
            "20/20 [==============================] - 0s 5ms/step - loss: 0.6756 - accuracy: 0.7479 - val_loss: 0.4432 - val_accuracy: 0.8682\n",
            "Epoch 118/1000\n",
            " 1/20 [>.............................] - ETA: 0s - loss: 0.6189 - accuracy: 0.7969\n",
            "Epoch 118: saving model to model/keypoint_classifier\\keypoint_classifier.hdf5\n",
            "20/20 [==============================] - 0s 5ms/step - loss: 0.6903 - accuracy: 0.7374 - val_loss: 0.4453 - val_accuracy: 0.8706\n",
            "Epoch 119/1000\n",
            " 1/20 [>.............................] - ETA: 0s - loss: 0.6040 - accuracy: 0.7500\n",
            "Epoch 119: saving model to model/keypoint_classifier\\keypoint_classifier.hdf5\n",
            "20/20 [==============================] - 0s 6ms/step - loss: 0.6866 - accuracy: 0.7253 - val_loss: 0.4470 - val_accuracy: 0.8694\n",
            "Epoch 120/1000\n",
            " 1/20 [>.............................] - ETA: 0s - loss: 0.7520 - accuracy: 0.7578\n",
            "Epoch 120: saving model to model/keypoint_classifier\\keypoint_classifier.hdf5\n",
            "20/20 [==============================] - 0s 5ms/step - loss: 0.6721 - accuracy: 0.7467 - val_loss: 0.4508 - val_accuracy: 0.8670\n",
            "Epoch 121/1000\n",
            " 1/20 [>.............................] - ETA: 0s - loss: 0.6051 - accuracy: 0.7656\n",
            "Epoch 121: saving model to model/keypoint_classifier\\keypoint_classifier.hdf5\n",
            "20/20 [==============================] - 0s 5ms/step - loss: 0.6755 - accuracy: 0.7527 - val_loss: 0.4508 - val_accuracy: 0.8658\n",
            "Epoch 122/1000\n",
            " 1/20 [>.............................] - ETA: 0s - loss: 0.6320 - accuracy: 0.7578\n",
            "Epoch 122: saving model to model/keypoint_classifier\\keypoint_classifier.hdf5\n",
            "20/20 [==============================] - 0s 5ms/step - loss: 0.6737 - accuracy: 0.7362 - val_loss: 0.4430 - val_accuracy: 0.8682\n",
            "Epoch 123/1000\n",
            " 1/20 [>.............................] - ETA: 0s - loss: 0.6985 - accuracy: 0.7500\n",
            "Epoch 123: saving model to model/keypoint_classifier\\keypoint_classifier.hdf5\n",
            "20/20 [==============================] - 0s 5ms/step - loss: 0.6617 - accuracy: 0.7559 - val_loss: 0.4389 - val_accuracy: 0.8718\n",
            "Epoch 124/1000\n",
            " 1/20 [>.............................] - ETA: 0s - loss: 0.6655 - accuracy: 0.7344\n",
            "Epoch 124: saving model to model/keypoint_classifier\\keypoint_classifier.hdf5\n",
            "20/20 [==============================] - 0s 5ms/step - loss: 0.6710 - accuracy: 0.7346 - val_loss: 0.4389 - val_accuracy: 0.8730\n",
            "Epoch 125/1000\n",
            " 1/20 [>.............................] - ETA: 0s - loss: 0.6685 - accuracy: 0.7656\n",
            "Epoch 125: saving model to model/keypoint_classifier\\keypoint_classifier.hdf5\n",
            "20/20 [==============================] - 0s 5ms/step - loss: 0.6730 - accuracy: 0.7451 - val_loss: 0.4416 - val_accuracy: 0.8682\n",
            "Epoch 126/1000\n",
            " 1/20 [>.............................] - ETA: 0s - loss: 0.6878 - accuracy: 0.7031\n",
            "Epoch 126: saving model to model/keypoint_classifier\\keypoint_classifier.hdf5\n",
            "20/20 [==============================] - 0s 5ms/step - loss: 0.6713 - accuracy: 0.7447 - val_loss: 0.4374 - val_accuracy: 0.8706\n",
            "Epoch 127/1000\n",
            " 1/20 [>.............................] - ETA: 0s - loss: 0.6415 - accuracy: 0.7500\n",
            "Epoch 127: saving model to model/keypoint_classifier\\keypoint_classifier.hdf5\n",
            "20/20 [==============================] - 0s 5ms/step - loss: 0.6820 - accuracy: 0.7362 - val_loss: 0.4427 - val_accuracy: 0.8694\n",
            "Epoch 128/1000\n",
            " 1/20 [>.............................] - ETA: 0s - loss: 0.5775 - accuracy: 0.7891\n",
            "Epoch 128: saving model to model/keypoint_classifier\\keypoint_classifier.hdf5\n",
            "20/20 [==============================] - 0s 5ms/step - loss: 0.6706 - accuracy: 0.7475 - val_loss: 0.4489 - val_accuracy: 0.8694\n",
            "Epoch 129/1000\n",
            " 1/20 [>.............................] - ETA: 0s - loss: 0.5536 - accuracy: 0.8047\n",
            "Epoch 129: saving model to model/keypoint_classifier\\keypoint_classifier.hdf5\n",
            "20/20 [==============================] - 0s 5ms/step - loss: 0.6576 - accuracy: 0.7523 - val_loss: 0.4493 - val_accuracy: 0.8670\n",
            "Epoch 130/1000\n",
            " 1/20 [>.............................] - ETA: 0s - loss: 0.6055 - accuracy: 0.8203\n",
            "Epoch 130: saving model to model/keypoint_classifier\\keypoint_classifier.hdf5\n",
            "20/20 [==============================] - 0s 5ms/step - loss: 0.6634 - accuracy: 0.7539 - val_loss: 0.4391 - val_accuracy: 0.8718\n",
            "Epoch 131/1000\n",
            "16/20 [=======================>......] - ETA: 0s - loss: 0.6561 - accuracy: 0.7505\n",
            "Epoch 131: saving model to model/keypoint_classifier\\keypoint_classifier.hdf5\n",
            "20/20 [==============================] - 0s 7ms/step - loss: 0.6559 - accuracy: 0.7483 - val_loss: 0.4366 - val_accuracy: 0.8779\n",
            "Epoch 132/1000\n",
            " 1/20 [>.............................] - ETA: 0s - loss: 0.5681 - accuracy: 0.7656\n",
            "Epoch 132: saving model to model/keypoint_classifier\\keypoint_classifier.hdf5\n",
            "20/20 [==============================] - 0s 5ms/step - loss: 0.6670 - accuracy: 0.7301 - val_loss: 0.4396 - val_accuracy: 0.8718\n",
            "Epoch 133/1000\n",
            " 1/20 [>.............................] - ETA: 0s - loss: 0.7308 - accuracy: 0.7109\n",
            "Epoch 133: saving model to model/keypoint_classifier\\keypoint_classifier.hdf5\n",
            "20/20 [==============================] - 0s 5ms/step - loss: 0.6716 - accuracy: 0.7447 - val_loss: 0.4426 - val_accuracy: 0.8694\n",
            "Epoch 134/1000\n",
            " 1/20 [>.............................] - ETA: 0s - loss: 0.8271 - accuracy: 0.6797\n",
            "Epoch 134: saving model to model/keypoint_classifier\\keypoint_classifier.hdf5\n",
            "20/20 [==============================] - 0s 5ms/step - loss: 0.6699 - accuracy: 0.7463 - val_loss: 0.4366 - val_accuracy: 0.8718\n",
            "Epoch 135/1000\n",
            " 1/20 [>.............................] - ETA: 0s - loss: 0.6700 - accuracy: 0.7500\n",
            "Epoch 135: saving model to model/keypoint_classifier\\keypoint_classifier.hdf5\n",
            "20/20 [==============================] - 0s 5ms/step - loss: 0.6574 - accuracy: 0.7430 - val_loss: 0.4429 - val_accuracy: 0.8694\n",
            "Epoch 136/1000\n",
            " 1/20 [>.............................] - ETA: 0s - loss: 0.5918 - accuracy: 0.7969\n",
            "Epoch 136: saving model to model/keypoint_classifier\\keypoint_classifier.hdf5\n",
            "20/20 [==============================] - 0s 5ms/step - loss: 0.6632 - accuracy: 0.7382 - val_loss: 0.4365 - val_accuracy: 0.8742\n",
            "Epoch 137/1000\n",
            " 1/20 [>.............................] - ETA: 0s - loss: 0.7359 - accuracy: 0.7188\n",
            "Epoch 137: saving model to model/keypoint_classifier\\keypoint_classifier.hdf5\n",
            "20/20 [==============================] - 0s 5ms/step - loss: 0.6642 - accuracy: 0.7511 - val_loss: 0.4412 - val_accuracy: 0.8730\n",
            "Epoch 138/1000\n",
            " 1/20 [>.............................] - ETA: 0s - loss: 0.7054 - accuracy: 0.7500\n",
            "Epoch 138: saving model to model/keypoint_classifier\\keypoint_classifier.hdf5\n",
            "20/20 [==============================] - 0s 5ms/step - loss: 0.6862 - accuracy: 0.7398 - val_loss: 0.4439 - val_accuracy: 0.8730\n",
            "Epoch 139/1000\n",
            " 1/20 [>.............................] - ETA: 0s - loss: 0.6418 - accuracy: 0.7344\n",
            "Epoch 139: saving model to model/keypoint_classifier\\keypoint_classifier.hdf5\n",
            "20/20 [==============================] - 0s 5ms/step - loss: 0.6308 - accuracy: 0.7455 - val_loss: 0.4369 - val_accuracy: 0.8730\n",
            "Epoch 140/1000\n",
            " 1/20 [>.............................] - ETA: 0s - loss: 0.7128 - accuracy: 0.7344\n",
            "Epoch 140: saving model to model/keypoint_classifier\\keypoint_classifier.hdf5\n",
            "20/20 [==============================] - 0s 5ms/step - loss: 0.6486 - accuracy: 0.7531 - val_loss: 0.4365 - val_accuracy: 0.8730\n",
            "Epoch 141/1000\n",
            " 1/20 [>.............................] - ETA: 0s - loss: 0.7112 - accuracy: 0.7500\n",
            "Epoch 141: saving model to model/keypoint_classifier\\keypoint_classifier.hdf5\n",
            "20/20 [==============================] - 0s 5ms/step - loss: 0.6661 - accuracy: 0.7358 - val_loss: 0.4443 - val_accuracy: 0.8730\n",
            "Epoch 142/1000\n",
            " 1/20 [>.............................] - ETA: 0s - loss: 0.6434 - accuracy: 0.7500\n",
            "Epoch 142: saving model to model/keypoint_classifier\\keypoint_classifier.hdf5\n",
            "20/20 [==============================] - 0s 5ms/step - loss: 0.6614 - accuracy: 0.7564 - val_loss: 0.4389 - val_accuracy: 0.8742\n",
            "Epoch 143/1000\n",
            " 9/20 [============>.................] - ETA: 0s - loss: 0.6191 - accuracy: 0.7543\n",
            "Epoch 143: saving model to model/keypoint_classifier\\keypoint_classifier.hdf5\n",
            "20/20 [==============================] - 0s 8ms/step - loss: 0.6581 - accuracy: 0.7511 - val_loss: 0.4362 - val_accuracy: 0.8742\n",
            "Epoch 144/1000\n",
            " 1/20 [>.............................] - ETA: 0s - loss: 0.7515 - accuracy: 0.7031\n",
            "Epoch 144: saving model to model/keypoint_classifier\\keypoint_classifier.hdf5\n",
            "20/20 [==============================] - 0s 7ms/step - loss: 0.6472 - accuracy: 0.7551 - val_loss: 0.4437 - val_accuracy: 0.8755\n",
            "Epoch 145/1000\n",
            " 1/20 [>.............................] - ETA: 0s - loss: 0.6892 - accuracy: 0.6875\n",
            "Epoch 145: saving model to model/keypoint_classifier\\keypoint_classifier.hdf5\n",
            "20/20 [==============================] - 0s 7ms/step - loss: 0.6629 - accuracy: 0.7503 - val_loss: 0.4376 - val_accuracy: 0.8706\n",
            "Epoch 146/1000\n",
            " 1/20 [>.............................] - ETA: 0s - loss: 0.5521 - accuracy: 0.7891\n",
            "Epoch 146: saving model to model/keypoint_classifier\\keypoint_classifier.hdf5\n",
            "20/20 [==============================] - 0s 6ms/step - loss: 0.6581 - accuracy: 0.7499 - val_loss: 0.4430 - val_accuracy: 0.8730\n",
            "Epoch 147/1000\n",
            " 1/20 [>.............................] - ETA: 0s - loss: 0.6837 - accuracy: 0.7656\n",
            "Epoch 147: saving model to model/keypoint_classifier\\keypoint_classifier.hdf5\n",
            "20/20 [==============================] - 0s 5ms/step - loss: 0.6618 - accuracy: 0.7527 - val_loss: 0.4490 - val_accuracy: 0.8658\n",
            "Epoch 148/1000\n",
            " 1/20 [>.............................] - ETA: 0s - loss: 0.5827 - accuracy: 0.7266\n",
            "Epoch 148: saving model to model/keypoint_classifier\\keypoint_classifier.hdf5\n",
            "20/20 [==============================] - 0s 6ms/step - loss: 0.6380 - accuracy: 0.7467 - val_loss: 0.4490 - val_accuracy: 0.8730\n",
            "Epoch 149/1000\n",
            " 1/20 [>.............................] - ETA: 0s - loss: 0.6717 - accuracy: 0.7656\n",
            "Epoch 149: saving model to model/keypoint_classifier\\keypoint_classifier.hdf5\n",
            "20/20 [==============================] - 0s 6ms/step - loss: 0.6416 - accuracy: 0.7523 - val_loss: 0.4358 - val_accuracy: 0.8658\n",
            "Epoch 150/1000\n",
            " 1/20 [>.............................] - ETA: 0s - loss: 0.5953 - accuracy: 0.7812\n",
            "Epoch 150: saving model to model/keypoint_classifier\\keypoint_classifier.hdf5\n",
            "20/20 [==============================] - 0s 6ms/step - loss: 0.6429 - accuracy: 0.7636 - val_loss: 0.4286 - val_accuracy: 0.8730\n",
            "Epoch 151/1000\n",
            " 1/20 [>.............................] - ETA: 0s - loss: 0.6060 - accuracy: 0.7891\n",
            "Epoch 151: saving model to model/keypoint_classifier\\keypoint_classifier.hdf5\n",
            "20/20 [==============================] - 0s 7ms/step - loss: 0.6548 - accuracy: 0.7547 - val_loss: 0.4349 - val_accuracy: 0.8827\n",
            "Epoch 152/1000\n",
            " 1/20 [>.............................] - ETA: 0s - loss: 0.7354 - accuracy: 0.7188\n",
            "Epoch 152: saving model to model/keypoint_classifier\\keypoint_classifier.hdf5\n",
            "20/20 [==============================] - 0s 6ms/step - loss: 0.6424 - accuracy: 0.7580 - val_loss: 0.4409 - val_accuracy: 0.8791\n",
            "Epoch 153/1000\n",
            " 1/20 [>.............................] - ETA: 0s - loss: 0.7390 - accuracy: 0.7109\n",
            "Epoch 153: saving model to model/keypoint_classifier\\keypoint_classifier.hdf5\n",
            "20/20 [==============================] - 0s 5ms/step - loss: 0.6404 - accuracy: 0.7535 - val_loss: 0.4254 - val_accuracy: 0.8791\n",
            "Epoch 154/1000\n",
            " 1/20 [>.............................] - ETA: 0s - loss: 0.6135 - accuracy: 0.7656\n",
            "Epoch 154: saving model to model/keypoint_classifier\\keypoint_classifier.hdf5\n",
            "20/20 [==============================] - 0s 5ms/step - loss: 0.6363 - accuracy: 0.7527 - val_loss: 0.4388 - val_accuracy: 0.8791\n",
            "Epoch 155/1000\n",
            "14/20 [====================>.........] - ETA: 0s - loss: 0.6432 - accuracy: 0.7567\n",
            "Epoch 155: saving model to model/keypoint_classifier\\keypoint_classifier.hdf5\n",
            "20/20 [==============================] - 0s 7ms/step - loss: 0.6487 - accuracy: 0.7531 - val_loss: 0.4394 - val_accuracy: 0.8767\n",
            "Epoch 156/1000\n",
            " 1/20 [>.............................] - ETA: 0s - loss: 0.5009 - accuracy: 0.8438\n",
            "Epoch 156: saving model to model/keypoint_classifier\\keypoint_classifier.hdf5\n",
            "20/20 [==============================] - 0s 6ms/step - loss: 0.6609 - accuracy: 0.7515 - val_loss: 0.4439 - val_accuracy: 0.8803\n",
            "Epoch 157/1000\n",
            " 1/20 [>.............................] - ETA: 0s - loss: 0.7237 - accuracy: 0.6953\n",
            "Epoch 157: saving model to model/keypoint_classifier\\keypoint_classifier.hdf5\n",
            "20/20 [==============================] - 0s 6ms/step - loss: 0.6389 - accuracy: 0.7487 - val_loss: 0.4367 - val_accuracy: 0.8815\n",
            "Epoch 158/1000\n",
            " 1/20 [>.............................] - ETA: 0s - loss: 0.6722 - accuracy: 0.6953\n",
            "Epoch 158: saving model to model/keypoint_classifier\\keypoint_classifier.hdf5\n",
            "20/20 [==============================] - 0s 5ms/step - loss: 0.6303 - accuracy: 0.7584 - val_loss: 0.4308 - val_accuracy: 0.8767\n",
            "Epoch 159/1000\n",
            " 1/20 [>.............................] - ETA: 0s - loss: 0.5949 - accuracy: 0.7500\n",
            "Epoch 159: saving model to model/keypoint_classifier\\keypoint_classifier.hdf5\n",
            "20/20 [==============================] - 0s 6ms/step - loss: 0.6178 - accuracy: 0.7588 - val_loss: 0.4270 - val_accuracy: 0.8791\n",
            "Epoch 160/1000\n",
            " 1/20 [>.............................] - ETA: 0s - loss: 0.5984 - accuracy: 0.7422\n",
            "Epoch 160: saving model to model/keypoint_classifier\\keypoint_classifier.hdf5\n",
            "20/20 [==============================] - 0s 6ms/step - loss: 0.6127 - accuracy: 0.7624 - val_loss: 0.4270 - val_accuracy: 0.8779\n",
            "Epoch 161/1000\n",
            " 1/20 [>.............................] - ETA: 0s - loss: 0.6398 - accuracy: 0.8047\n",
            "Epoch 161: saving model to model/keypoint_classifier\\keypoint_classifier.hdf5\n",
            "20/20 [==============================] - 0s 5ms/step - loss: 0.6286 - accuracy: 0.7636 - val_loss: 0.4317 - val_accuracy: 0.8767\n",
            "Epoch 162/1000\n",
            " 1/20 [>.............................] - ETA: 0s - loss: 0.7345 - accuracy: 0.7422\n",
            "Epoch 162: saving model to model/keypoint_classifier\\keypoint_classifier.hdf5\n",
            "20/20 [==============================] - 0s 6ms/step - loss: 0.6657 - accuracy: 0.7499 - val_loss: 0.4250 - val_accuracy: 0.8755\n",
            "Epoch 163/1000\n",
            " 1/20 [>.............................] - ETA: 0s - loss: 0.6261 - accuracy: 0.7656\n",
            "Epoch 163: saving model to model/keypoint_classifier\\keypoint_classifier.hdf5\n",
            "20/20 [==============================] - 0s 5ms/step - loss: 0.6235 - accuracy: 0.7584 - val_loss: 0.4351 - val_accuracy: 0.8742\n",
            "Epoch 164/1000\n",
            " 1/20 [>.............................] - ETA: 0s - loss: 0.6778 - accuracy: 0.7109\n",
            "Epoch 164: saving model to model/keypoint_classifier\\keypoint_classifier.hdf5\n",
            "20/20 [==============================] - 0s 5ms/step - loss: 0.6292 - accuracy: 0.7664 - val_loss: 0.4227 - val_accuracy: 0.8742\n",
            "Epoch 165/1000\n",
            " 1/20 [>.............................] - ETA: 0s - loss: 0.6187 - accuracy: 0.7891\n",
            "Epoch 165: saving model to model/keypoint_classifier\\keypoint_classifier.hdf5\n",
            "20/20 [==============================] - 0s 5ms/step - loss: 0.6340 - accuracy: 0.7600 - val_loss: 0.4239 - val_accuracy: 0.8779\n",
            "Epoch 166/1000\n",
            " 1/20 [>.............................] - ETA: 0s - loss: 0.7133 - accuracy: 0.7031\n",
            "Epoch 166: saving model to model/keypoint_classifier\\keypoint_classifier.hdf5\n",
            "20/20 [==============================] - 0s 6ms/step - loss: 0.6067 - accuracy: 0.7620 - val_loss: 0.4152 - val_accuracy: 0.8791\n",
            "Epoch 167/1000\n",
            " 1/20 [>.............................] - ETA: 0s - loss: 0.6990 - accuracy: 0.7500\n",
            "Epoch 167: saving model to model/keypoint_classifier\\keypoint_classifier.hdf5\n",
            "20/20 [==============================] - 0s 6ms/step - loss: 0.6213 - accuracy: 0.7592 - val_loss: 0.4257 - val_accuracy: 0.8803\n",
            "Epoch 168/1000\n",
            " 1/20 [>.............................] - ETA: 0s - loss: 0.6435 - accuracy: 0.7578\n",
            "Epoch 168: saving model to model/keypoint_classifier\\keypoint_classifier.hdf5\n",
            "20/20 [==============================] - 0s 6ms/step - loss: 0.6320 - accuracy: 0.7709 - val_loss: 0.4304 - val_accuracy: 0.8839\n",
            "Epoch 169/1000\n",
            "20/20 [==============================] - ETA: 0s - loss: 0.6317 - accuracy: 0.7547\n",
            "Epoch 169: saving model to model/keypoint_classifier\\keypoint_classifier.hdf5\n",
            "20/20 [==============================] - 0s 7ms/step - loss: 0.6317 - accuracy: 0.7547 - val_loss: 0.4306 - val_accuracy: 0.8779\n",
            "Epoch 170/1000\n",
            " 1/20 [>.............................] - ETA: 0s - loss: 0.6613 - accuracy: 0.7422\n",
            "Epoch 170: saving model to model/keypoint_classifier\\keypoint_classifier.hdf5\n",
            "20/20 [==============================] - 0s 5ms/step - loss: 0.6391 - accuracy: 0.7604 - val_loss: 0.4255 - val_accuracy: 0.8706\n",
            "Epoch 171/1000\n",
            " 1/20 [>.............................] - ETA: 0s - loss: 0.5766 - accuracy: 0.7266\n",
            "Epoch 171: saving model to model/keypoint_classifier\\keypoint_classifier.hdf5\n",
            "20/20 [==============================] - 0s 5ms/step - loss: 0.6214 - accuracy: 0.7596 - val_loss: 0.4228 - val_accuracy: 0.8839\n",
            "Epoch 172/1000\n",
            " 1/20 [>.............................] - ETA: 0s - loss: 0.6448 - accuracy: 0.7656\n",
            "Epoch 172: saving model to model/keypoint_classifier\\keypoint_classifier.hdf5\n",
            "20/20 [==============================] - 0s 6ms/step - loss: 0.6209 - accuracy: 0.7644 - val_loss: 0.4325 - val_accuracy: 0.8730\n",
            "Epoch 173/1000\n",
            " 1/20 [>.............................] - ETA: 0s - loss: 0.6177 - accuracy: 0.7344\n",
            "Epoch 173: saving model to model/keypoint_classifier\\keypoint_classifier.hdf5\n",
            "20/20 [==============================] - 0s 6ms/step - loss: 0.6339 - accuracy: 0.7531 - val_loss: 0.4265 - val_accuracy: 0.8791\n",
            "Epoch 174/1000\n",
            " 1/20 [>.............................] - ETA: 0s - loss: 0.5922 - accuracy: 0.7734\n",
            "Epoch 174: saving model to model/keypoint_classifier\\keypoint_classifier.hdf5\n",
            "20/20 [==============================] - 0s 6ms/step - loss: 0.6714 - accuracy: 0.7438 - val_loss: 0.4357 - val_accuracy: 0.8779\n",
            "Epoch 175/1000\n",
            " 1/20 [>.............................] - ETA: 0s - loss: 0.6366 - accuracy: 0.7422\n",
            "Epoch 175: saving model to model/keypoint_classifier\\keypoint_classifier.hdf5\n",
            "20/20 [==============================] - 0s 6ms/step - loss: 0.6173 - accuracy: 0.7636 - val_loss: 0.4360 - val_accuracy: 0.8694\n",
            "Epoch 176/1000\n",
            " 1/20 [>.............................] - ETA: 0s - loss: 0.6515 - accuracy: 0.7344\n",
            "Epoch 176: saving model to model/keypoint_classifier\\keypoint_classifier.hdf5\n",
            "20/20 [==============================] - 0s 5ms/step - loss: 0.6275 - accuracy: 0.7676 - val_loss: 0.4316 - val_accuracy: 0.8767\n",
            "Epoch 177/1000\n",
            " 1/20 [>.............................] - ETA: 0s - loss: 0.7039 - accuracy: 0.7344\n",
            "Epoch 177: saving model to model/keypoint_classifier\\keypoint_classifier.hdf5\n",
            "20/20 [==============================] - 0s 6ms/step - loss: 0.6306 - accuracy: 0.7572 - val_loss: 0.4362 - val_accuracy: 0.8730\n",
            "Epoch 178/1000\n",
            " 1/20 [>.............................] - ETA: 0s - loss: 0.6026 - accuracy: 0.7578\n",
            "Epoch 178: saving model to model/keypoint_classifier\\keypoint_classifier.hdf5\n",
            "20/20 [==============================] - 0s 6ms/step - loss: 0.6309 - accuracy: 0.7648 - val_loss: 0.4367 - val_accuracy: 0.8815\n",
            "Epoch 179/1000\n",
            " 1/20 [>.............................] - ETA: 0s - loss: 0.7271 - accuracy: 0.7188\n",
            "Epoch 179: saving model to model/keypoint_classifier\\keypoint_classifier.hdf5\n",
            "20/20 [==============================] - 0s 5ms/step - loss: 0.6253 - accuracy: 0.7648 - val_loss: 0.4338 - val_accuracy: 0.8815\n",
            "Epoch 180/1000\n",
            "16/20 [=======================>......] - ETA: 0s - loss: 0.5821 - accuracy: 0.7729\n",
            "Epoch 180: saving model to model/keypoint_classifier\\keypoint_classifier.hdf5\n",
            "20/20 [==============================] - 0s 6ms/step - loss: 0.5995 - accuracy: 0.7668 - val_loss: 0.4113 - val_accuracy: 0.8827\n",
            "Epoch 181/1000\n",
            " 1/20 [>.............................] - ETA: 0s - loss: 0.5580 - accuracy: 0.8047\n",
            "Epoch 181: saving model to model/keypoint_classifier\\keypoint_classifier.hdf5\n",
            "20/20 [==============================] - 0s 5ms/step - loss: 0.6110 - accuracy: 0.7600 - val_loss: 0.4184 - val_accuracy: 0.8779\n",
            "Epoch 182/1000\n",
            " 1/20 [>.............................] - ETA: 0s - loss: 0.6393 - accuracy: 0.7109\n",
            "Epoch 182: saving model to model/keypoint_classifier\\keypoint_classifier.hdf5\n",
            "20/20 [==============================] - 0s 7ms/step - loss: 0.6174 - accuracy: 0.7664 - val_loss: 0.4305 - val_accuracy: 0.8803\n",
            "Epoch 183/1000\n",
            " 1/20 [>.............................] - ETA: 0s - loss: 0.7008 - accuracy: 0.7578\n",
            "Epoch 183: saving model to model/keypoint_classifier\\keypoint_classifier.hdf5\n",
            "20/20 [==============================] - 0s 6ms/step - loss: 0.6322 - accuracy: 0.7543 - val_loss: 0.4318 - val_accuracy: 0.8755\n",
            "Epoch 184/1000\n",
            " 1/20 [>.............................] - ETA: 0s - loss: 0.5507 - accuracy: 0.7891\n",
            "Epoch 184: saving model to model/keypoint_classifier\\keypoint_classifier.hdf5\n",
            "20/20 [==============================] - 0s 6ms/step - loss: 0.6268 - accuracy: 0.7628 - val_loss: 0.4298 - val_accuracy: 0.8803\n",
            "Epoch 185/1000\n",
            " 1/20 [>.............................] - ETA: 0s - loss: 0.6512 - accuracy: 0.7734\n",
            "Epoch 185: saving model to model/keypoint_classifier\\keypoint_classifier.hdf5\n",
            "20/20 [==============================] - 0s 5ms/step - loss: 0.6113 - accuracy: 0.7668 - val_loss: 0.4275 - val_accuracy: 0.8779\n",
            "Epoch 186/1000\n",
            " 1/20 [>.............................] - ETA: 0s - loss: 0.7211 - accuracy: 0.7578\n",
            "Epoch 186: saving model to model/keypoint_classifier\\keypoint_classifier.hdf5\n",
            "20/20 [==============================] - 0s 5ms/step - loss: 0.6110 - accuracy: 0.7660 - val_loss: 0.4377 - val_accuracy: 0.8742\n",
            "Epoch 187/1000\n",
            " 1/20 [>.............................] - ETA: 0s - loss: 0.7193 - accuracy: 0.7344\n",
            "Epoch 187: saving model to model/keypoint_classifier\\keypoint_classifier.hdf5\n",
            "20/20 [==============================] - 0s 5ms/step - loss: 0.6238 - accuracy: 0.7499 - val_loss: 0.4304 - val_accuracy: 0.8742\n",
            "Epoch 188/1000\n",
            " 1/20 [>.............................] - ETA: 0s - loss: 0.6290 - accuracy: 0.7578\n",
            "Epoch 188: saving model to model/keypoint_classifier\\keypoint_classifier.hdf5\n",
            "20/20 [==============================] - 0s 6ms/step - loss: 0.6087 - accuracy: 0.7668 - val_loss: 0.4349 - val_accuracy: 0.8694\n",
            "Epoch 189/1000\n",
            " 1/20 [>.............................] - ETA: 0s - loss: 0.6822 - accuracy: 0.7031\n",
            "Epoch 189: saving model to model/keypoint_classifier\\keypoint_classifier.hdf5\n",
            "20/20 [==============================] - 0s 6ms/step - loss: 0.6271 - accuracy: 0.7668 - val_loss: 0.4313 - val_accuracy: 0.8718\n",
            "Epoch 190/1000\n",
            " 1/20 [>.............................] - ETA: 0s - loss: 0.5357 - accuracy: 0.8125\n",
            "Epoch 190: saving model to model/keypoint_classifier\\keypoint_classifier.hdf5\n",
            "20/20 [==============================] - 0s 5ms/step - loss: 0.6224 - accuracy: 0.7656 - val_loss: 0.4259 - val_accuracy: 0.8755\n",
            "Epoch 191/1000\n",
            " 1/20 [>.............................] - ETA: 0s - loss: 0.7048 - accuracy: 0.7344\n",
            "Epoch 191: saving model to model/keypoint_classifier\\keypoint_classifier.hdf5\n",
            "20/20 [==============================] - 0s 7ms/step - loss: 0.6218 - accuracy: 0.7555 - val_loss: 0.4319 - val_accuracy: 0.8755\n",
            "Epoch 192/1000\n",
            " 1/20 [>.............................] - ETA: 0s - loss: 0.5149 - accuracy: 0.7812\n",
            "Epoch 192: saving model to model/keypoint_classifier\\keypoint_classifier.hdf5\n",
            "20/20 [==============================] - 0s 6ms/step - loss: 0.6143 - accuracy: 0.7640 - val_loss: 0.4275 - val_accuracy: 0.8791\n",
            "Epoch 193/1000\n",
            " 1/20 [>.............................] - ETA: 0s - loss: 0.5746 - accuracy: 0.7969\n",
            "Epoch 193: saving model to model/keypoint_classifier\\keypoint_classifier.hdf5\n",
            "20/20 [==============================] - 0s 5ms/step - loss: 0.6145 - accuracy: 0.7628 - val_loss: 0.4246 - val_accuracy: 0.8803\n",
            "Epoch 194/1000\n",
            " 1/20 [>.............................] - ETA: 0s - loss: 0.5951 - accuracy: 0.7656\n",
            "Epoch 194: saving model to model/keypoint_classifier\\keypoint_classifier.hdf5\n",
            "20/20 [==============================] - 0s 6ms/step - loss: 0.6211 - accuracy: 0.7559 - val_loss: 0.4223 - val_accuracy: 0.8839\n",
            "Epoch 195/1000\n",
            " 1/20 [>.............................] - ETA: 0s - loss: 0.7321 - accuracy: 0.7344\n",
            "Epoch 195: saving model to model/keypoint_classifier\\keypoint_classifier.hdf5\n",
            "20/20 [==============================] - 0s 5ms/step - loss: 0.6216 - accuracy: 0.7689 - val_loss: 0.4263 - val_accuracy: 0.8682\n",
            "Epoch 196/1000\n",
            " 1/20 [>.............................] - ETA: 0s - loss: 0.6227 - accuracy: 0.7344\n",
            "Epoch 196: saving model to model/keypoint_classifier\\keypoint_classifier.hdf5\n",
            "20/20 [==============================] - 0s 6ms/step - loss: 0.6328 - accuracy: 0.7604 - val_loss: 0.4215 - val_accuracy: 0.8694\n",
            "Epoch 197/1000\n",
            " 1/20 [>.............................] - ETA: 0s - loss: 0.6222 - accuracy: 0.7188\n",
            "Epoch 197: saving model to model/keypoint_classifier\\keypoint_classifier.hdf5\n",
            "20/20 [==============================] - 0s 6ms/step - loss: 0.5990 - accuracy: 0.7644 - val_loss: 0.4182 - val_accuracy: 0.8730\n",
            "Epoch 198/1000\n",
            " 1/20 [>.............................] - ETA: 0s - loss: 0.5482 - accuracy: 0.7812\n",
            "Epoch 198: saving model to model/keypoint_classifier\\keypoint_classifier.hdf5\n",
            "20/20 [==============================] - 0s 6ms/step - loss: 0.6167 - accuracy: 0.7535 - val_loss: 0.4385 - val_accuracy: 0.8609\n",
            "Epoch 199/1000\n",
            " 1/20 [>.............................] - ETA: 0s - loss: 0.6884 - accuracy: 0.7500\n",
            "Epoch 199: saving model to model/keypoint_classifier\\keypoint_classifier.hdf5\n",
            "20/20 [==============================] - 0s 6ms/step - loss: 0.6164 - accuracy: 0.7717 - val_loss: 0.4152 - val_accuracy: 0.8755\n",
            "Epoch 200/1000\n",
            " 1/20 [>.............................] - ETA: 0s - loss: 0.6513 - accuracy: 0.7578\n",
            "Epoch 200: saving model to model/keypoint_classifier\\keypoint_classifier.hdf5\n",
            "20/20 [==============================] - 0s 6ms/step - loss: 0.6198 - accuracy: 0.7507 - val_loss: 0.4189 - val_accuracy: 0.8815\n",
            "Epoch 200: early stopping\n"
          ]
        },
        {
          "data": {
            "text/plain": [
              "<keras.src.callbacks.History at 0x1f3e87d6290>"
            ]
          },
          "execution_count": 11,
          "metadata": {},
          "output_type": "execute_result"
        }
      ],
      "source": [
        "model.fit(\n",
        "    X_train,\n",
        "    y_train,\n",
        "    epochs=1000,\n",
        "    batch_size=128,\n",
        "    validation_data=(X_test, y_test),\n",
        "    callbacks=[cp_callback, es_callback]\n",
        ")"
      ]
    },
    {
      "cell_type": "code",
      "execution_count": 12,
      "metadata": {
        "colab": {
          "base_uri": "https://localhost:8080/"
        },
        "id": "pxvb2Y299hE3",
        "outputId": "59eb3185-2e37-4b9e-bc9d-ab1b8ac29b7f"
      },
      "outputs": [
        {
          "name": "stdout",
          "output_type": "stream",
          "text": [
            "7/7 [==============================] - 0s 3ms/step - loss: 0.4189 - accuracy: 0.8815\n"
          ]
        }
      ],
      "source": [
        "# Model evaluation\n",
        "val_loss, val_acc = model.evaluate(X_test, y_test, batch_size=128)"
      ]
    },
    {
      "cell_type": "code",
      "execution_count": 13,
      "metadata": {
        "id": "RBkmDeUW9hE4"
      },
      "outputs": [],
      "source": [
        "# Loading the saved model\n",
        "model = tf.keras.models.load_model(model_save_path)"
      ]
    },
    {
      "cell_type": "code",
      "execution_count": 14,
      "metadata": {
        "colab": {
          "base_uri": "https://localhost:8080/"
        },
        "id": "tFz9Tb0I9hE4",
        "outputId": "1c3b3528-54ae-4ee2-ab04-77429211cbef"
      },
      "outputs": [
        {
          "name": "stdout",
          "output_type": "stream",
          "text": [
            "1/1 [==============================] - 0s 165ms/step\n",
            "[1.3156541e-01 1.2744533e-01 6.0469750e-04 3.2210529e-03 9.2612371e-02\n",
            " 6.4452738e-01 2.3774073e-05]\n",
            "5\n"
          ]
        }
      ],
      "source": [
        "# Inference test\n",
        "predict_result = model.predict(np.array([X_test[0]]))\n",
        "print(np.squeeze(predict_result))\n",
        "print(np.argmax(np.squeeze(predict_result)))"
      ]
    },
    {
      "cell_type": "markdown",
      "metadata": {
        "id": "S3U4yNWx9hE4"
      },
      "source": [
        "# Confusion matrix"
      ]
    },
    {
      "cell_type": "code",
      "execution_count": 15,
      "metadata": {
        "colab": {
          "base_uri": "https://localhost:8080/",
          "height": 582
        },
        "id": "AP1V6SCk9hE5",
        "outputId": "08e41a80-7a4a-4619-8125-ecc371368d19"
      },
      "outputs": [
        {
          "ename": "ImportError",
          "evalue": "Unable to import required dependencies:\npytz: No module named 'pytz'",
          "output_type": "error",
          "traceback": [
            "\u001b[1;31m---------------------------------------------------------------------------\u001b[0m",
            "\u001b[1;31mImportError\u001b[0m                               Traceback (most recent call last)",
            "Cell \u001b[1;32mIn[15], line 1\u001b[0m\n\u001b[1;32m----> 1\u001b[0m \u001b[38;5;28;01mimport\u001b[39;00m \u001b[38;5;21;01mpandas\u001b[39;00m \u001b[38;5;28;01mas\u001b[39;00m \u001b[38;5;21;01mpd\u001b[39;00m\n\u001b[0;32m      2\u001b[0m \u001b[38;5;28;01mimport\u001b[39;00m \u001b[38;5;21;01mseaborn\u001b[39;00m \u001b[38;5;28;01mas\u001b[39;00m \u001b[38;5;21;01msns\u001b[39;00m\n\u001b[0;32m      3\u001b[0m \u001b[38;5;28;01mimport\u001b[39;00m \u001b[38;5;21;01mmatplotlib\u001b[39;00m\u001b[38;5;21;01m.\u001b[39;00m\u001b[38;5;21;01mpyplot\u001b[39;00m \u001b[38;5;28;01mas\u001b[39;00m \u001b[38;5;21;01mplt\u001b[39;00m\n",
            "File \u001b[1;32mc:\\Users\\Aadi\\OneDrive\\Desktop\\TFODCourse\\tfod\\Lib\\site-packages\\pandas-2.2.0-py3.11-win-amd64.egg\\pandas\\__init__.py:32\u001b[0m\n\u001b[0;32m     29\u001b[0m         _missing_dependencies\u001b[38;5;241m.\u001b[39mappend(\u001b[38;5;124mf\u001b[39m\u001b[38;5;124m\"\u001b[39m\u001b[38;5;132;01m{\u001b[39;00m_dependency\u001b[38;5;132;01m}\u001b[39;00m\u001b[38;5;124m: \u001b[39m\u001b[38;5;132;01m{\u001b[39;00m_e\u001b[38;5;132;01m}\u001b[39;00m\u001b[38;5;124m\"\u001b[39m)\n\u001b[0;32m     31\u001b[0m \u001b[38;5;28;01mif\u001b[39;00m _missing_dependencies:  \u001b[38;5;66;03m# pragma: no cover\u001b[39;00m\n\u001b[1;32m---> 32\u001b[0m     \u001b[38;5;28;01mraise\u001b[39;00m \u001b[38;5;167;01mImportError\u001b[39;00m(\n\u001b[0;32m     33\u001b[0m         \u001b[38;5;124m\"\u001b[39m\u001b[38;5;124mUnable to import required dependencies:\u001b[39m\u001b[38;5;130;01m\\n\u001b[39;00m\u001b[38;5;124m\"\u001b[39m \u001b[38;5;241m+\u001b[39m \u001b[38;5;124m\"\u001b[39m\u001b[38;5;130;01m\\n\u001b[39;00m\u001b[38;5;124m\"\u001b[39m\u001b[38;5;241m.\u001b[39mjoin(_missing_dependencies)\n\u001b[0;32m     34\u001b[0m     )\n\u001b[0;32m     35\u001b[0m \u001b[38;5;28;01mdel\u001b[39;00m _hard_dependencies, _dependency, _missing_dependencies\n\u001b[0;32m     37\u001b[0m \u001b[38;5;28;01mtry\u001b[39;00m:\n\u001b[0;32m     38\u001b[0m     \u001b[38;5;66;03m# numpy compat\u001b[39;00m\n",
            "\u001b[1;31mImportError\u001b[0m: Unable to import required dependencies:\npytz: No module named 'pytz'"
          ]
        }
      ],
      "source": [
        "import pandas as pd\n",
        "import seaborn as sns\n",
        "import matplotlib.pyplot as plt\n",
        "from sklearn.metrics import confusion_matrix, classification_report\n",
        "\n",
        "def print_confusion_matrix(y_true, y_pred, report=True):\n",
        "    labels = sorted(list(set(y_true)))\n",
        "    cmx_data = confusion_matrix(y_true, y_pred, labels=labels)\n",
        "    \n",
        "    df_cmx = pd.DataFrame(cmx_data, index=labels, columns=labels)\n",
        " \n",
        "    fig, ax = plt.subplots(figsize=(7, 6))\n",
        "    sns.heatmap(df_cmx, annot=True, fmt='g' ,square=False)\n",
        "    ax.set_ylim(len(set(y_true)), 0)\n",
        "    plt.show()\n",
        "    \n",
        "    if report:\n",
        "        print('Classification Report')\n",
        "        print(classification_report(y_test, y_pred))\n",
        "\n",
        "Y_pred = model.predict(X_test)\n",
        "y_pred = np.argmax(Y_pred, axis=1)\n",
        "\n",
        "print_confusion_matrix(y_test, y_pred)"
      ]
    },
    {
      "cell_type": "markdown",
      "metadata": {
        "id": "FNP6aqzc9hE5"
      },
      "source": [
        "# Convert to model for Tensorflow-Lite"
      ]
    },
    {
      "cell_type": "code",
      "execution_count": 16,
      "metadata": {
        "id": "ODjnYyld9hE6"
      },
      "outputs": [],
      "source": [
        "# Save as a model dedicated to inference\n",
        "model.save(model_save_path, include_optimizer=False)"
      ]
    },
    {
      "cell_type": "code",
      "execution_count": 17,
      "metadata": {
        "colab": {
          "base_uri": "https://localhost:8080/"
        },
        "id": "zRfuK8Y59hE6",
        "outputId": "a4ca585c-b5d5-4244-8291-8674063209bb"
      },
      "outputs": [
        {
          "name": "stdout",
          "output_type": "stream",
          "text": [
            "INFO:tensorflow:Assets written to: C:\\Users\\Aadi\\AppData\\Local\\Temp\\tmpq1tn8y53\\assets\n"
          ]
        },
        {
          "name": "stderr",
          "output_type": "stream",
          "text": [
            "INFO:tensorflow:Assets written to: C:\\Users\\Aadi\\AppData\\Local\\Temp\\tmpq1tn8y53\\assets\n"
          ]
        },
        {
          "data": {
            "text/plain": [
              "6676"
            ]
          },
          "execution_count": 17,
          "metadata": {},
          "output_type": "execute_result"
        }
      ],
      "source": [
        "# Transform model (quantization)\n",
        "\n",
        "converter = tf.lite.TFLiteConverter.from_keras_model(model)\n",
        "converter.optimizations = [tf.lite.Optimize.DEFAULT]\n",
        "tflite_quantized_model = converter.convert()\n",
        "\n",
        "open(tflite_save_path, 'wb').write(tflite_quantized_model)"
      ]
    },
    {
      "cell_type": "markdown",
      "metadata": {
        "id": "CHBPBXdx9hE6"
      },
      "source": [
        "# Inference test"
      ]
    },
    {
      "cell_type": "code",
      "execution_count": 18,
      "metadata": {
        "id": "mGAzLocO9hE7"
      },
      "outputs": [],
      "source": [
        "interpreter = tf.lite.Interpreter(model_path=tflite_save_path)\n",
        "interpreter.allocate_tensors()"
      ]
    },
    {
      "cell_type": "code",
      "execution_count": 19,
      "metadata": {
        "id": "oQuDK8YS9hE7"
      },
      "outputs": [],
      "source": [
        "# Get I / O tensor\n",
        "input_details = interpreter.get_input_details()\n",
        "output_details = interpreter.get_output_details()"
      ]
    },
    {
      "cell_type": "code",
      "execution_count": 20,
      "metadata": {
        "id": "2_ixAf_l9hE7"
      },
      "outputs": [],
      "source": [
        "interpreter.set_tensor(input_details[0]['index'], np.array([X_test[0]]))"
      ]
    },
    {
      "cell_type": "code",
      "execution_count": 21,
      "metadata": {
        "colab": {
          "base_uri": "https://localhost:8080/"
        },
        "id": "s4FoAnuc9hE7",
        "outputId": "91f18257-8d8b-4ef3-c558-e9b5f94fabbf",
        "scrolled": true
      },
      "outputs": [
        {
          "name": "stdout",
          "output_type": "stream",
          "text": [
            "CPU times: total: 0 ns\n",
            "Wall time: 1.95 ms\n"
          ]
        }
      ],
      "source": [
        "%%time\n",
        "# Inference implementation\n",
        "interpreter.invoke()\n",
        "tflite_results = interpreter.get_tensor(output_details[0]['index'])"
      ]
    },
    {
      "cell_type": "code",
      "execution_count": 22,
      "metadata": {
        "colab": {
          "base_uri": "https://localhost:8080/"
        },
        "id": "vONjp19J9hE8",
        "outputId": "77205e24-fd00-42c4-f7b6-e06e527c2cba"
      },
      "outputs": [
        {
          "name": "stdout",
          "output_type": "stream",
          "text": [
            "[1.3156524e-01 1.2744522e-01 6.0469739e-04 3.2210539e-03 9.2612408e-02\n",
            " 6.4452761e-01 2.3774106e-05]\n",
            "5\n"
          ]
        }
      ],
      "source": [
        "print(np.squeeze(tflite_results))\n",
        "print(np.argmax(np.squeeze(tflite_results)))"
      ]
    }
  ],
  "metadata": {
    "accelerator": "GPU",
    "colab": {
      "collapsed_sections": [],
      "name": "keypoint_classification_EN.ipynb",
      "provenance": [],
      "toc_visible": true
    },
    "kernelspec": {
      "display_name": "tfod",
      "language": "python",
      "name": "tfod"
    },
    "language_info": {
      "codemirror_mode": {
        "name": "ipython",
        "version": 3
      },
      "file_extension": ".py",
      "mimetype": "text/x-python",
      "name": "python",
      "nbconvert_exporter": "python",
      "pygments_lexer": "ipython3",
      "version": "3.11.9"
    }
  },
  "nbformat": 4,
  "nbformat_minor": 0
}
